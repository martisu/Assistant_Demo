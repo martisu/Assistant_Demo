{
 "cells": [
  {
   "cell_type": "markdown",
   "id": "69e900b7-bf4f-4239-82df-74bf23c664d8",
   "metadata": {},
   "source": [
    "# DEMO RAG GRUPO PLANETA"
   ]
  },
  {
   "cell_type": "markdown",
   "id": "41d812e4-13fb-4275-a6d4-a4b30ba747f2",
   "metadata": {},
   "source": [
    "# Preparations"
   ]
  },
  {
   "cell_type": "code",
   "execution_count": 1,
   "id": "9ad8130e-deca-470e-b586-10f215ec0654",
   "metadata": {},
   "outputs": [
    {
     "name": "stdout",
     "output_type": "stream",
     "text": [
      "Note: you may need to restart the kernel to use updated packages.\n"
     ]
    }
   ],
   "source": [
    "%pip install --upgrade --quiet  langchain langchain-community langchainhub langchain-openai chromadb bs4 pypdf docx2txt faiss-cpu fasttext-langdetect streamlit"
   ]
  },
  {
   "cell_type": "code",
   "execution_count": 2,
   "id": "ae7ac820-af4f-4bd7-8611-2a03e85f20d3",
   "metadata": {},
   "outputs": [],
   "source": [
    "import getpass\n",
    "import os\n",
    "\n",
    "os.environ[\"OPENAI_API_KEY\"] = \"\" #getpass.getpass()\n",
    "\n",
    "# import dotenv\n",
    "\n",
    "# dotenv.load_dotenv()"
   ]
  },
  {
   "cell_type": "code",
   "execution_count": 95,
   "id": "9f4abe7f-114c-43cd-b63f-d934d56d20bd",
   "metadata": {},
   "outputs": [],
   "source": [
    "import bs4\n",
    "from langchain import hub\n",
    "from langchain.text_splitter import RecursiveCharacterTextSplitter\n",
    "from langchain_community.document_loaders import Docx2txtLoader, DirectoryLoader #, WebBaseLoader\n",
    "from langchain_community.vectorstores import FAISS\n",
    "from langchain_core.output_parsers import StrOutputParser\n",
    "from langchain_core.runnables import RunnablePassthrough\n",
    "from langchain_openai import ChatOpenAI, OpenAIEmbeddings\n",
    "from langchain.prompts import (\n",
    "    PromptTemplate,\n",
    "    ChatPromptTemplate,\n",
    "    HumanMessagePromptTemplate,\n",
    "    SystemMessagePromptTemplate\n",
    ")\n",
    "from time import sleep\n",
    "from ftlangdetect import detect"
   ]
  },
  {
   "cell_type": "markdown",
   "id": "be9a7d2f-d9ce-4a22-a880-02f023a65a0b",
   "metadata": {},
   "source": [
    "### Data"
   ]
  },
  {
   "cell_type": "markdown",
   "id": "c5514883-9ea3-4ba6-ad90-8429bc875745",
   "metadata": {},
   "source": [
    "### Load Documents"
   ]
  },
  {
   "cell_type": "raw",
   "id": "252340d4-26e9-42ce-ad3f-7f73bb75de2c",
   "metadata": {
    "collapsed": true,
    "jupyter": {
     "outputs_hidden": true
    }
   },
   "source": [
    "documents_path = [\"documents_planeta/Operativa+N1.docx\",\n",
    "                  \"documents_planeta/WEB+DE+CAPTACIÓN.docx\",\n",
    "                  \"documents_planeta/MODULO+MARKETING.docx\",\n",
    "                  \"documents_planeta/LEAD.docx\",\n",
    "                  \"documents_planeta/CONTACT.docx\",\n",
    "                  \"documents_planeta/ACCOUNT.docx\"]\n",
    "data = [Docx2txtLoader(doc).load() for doc in documents_path]\n",
    "print(type(data))\n",
    "print(type(data[0]))\n",
    "print(type(data[0][0]))\n",
    "data"
   ]
  },
  {
   "cell_type": "raw",
   "id": "f152e69b-b050-41fe-a10b-d501ff65e37e",
   "metadata": {
    "collapsed": true,
    "jupyter": {
     "outputs_hidden": true
    }
   },
   "source": [
    "from langchain_community.document_loaders import PyPDFLoader\n",
    "documents_path = \"documents_planeta/PFUITA-OperativaN1-120224-1108.pdf\"\n",
    "loader = PyPDFLoader(documents_path)\n",
    "pages = loader.load_and_split()\n",
    "\n",
    "pages[0]"
   ]
  },
  {
   "cell_type": "code",
   "execution_count": 40,
   "id": "c302f8b8-60eb-430f-b0f4-1d8579cee35b",
   "metadata": {
    "collapsed": true,
    "jupyter": {
     "outputs_hidden": true
    }
   },
   "outputs": [
    {
     "data": {
      "text/plain": [
       "[Document(page_content='ACCOUNT\\n\\nEn la entidad “Account” en la pestaña “Summary” en la sección “Account Address” aparecerán cinco campos importantes. Los campos son:\\n\\nCountry, que es de tipo lookup\\n\\nState, que es de tipo lookup\\n\\nState Text, que es de tipo text.\\n\\nCity, que es de tipo lookup.\\n\\nCity Text, que es de tipo text.\\n\\nDependiendo de si el país esta normalizado o no la entidad “Account” recibirá unos valores u otros de la entidad “Lead”. En concreto será:\\n\\nSi el país esta normalizado. Los campos “Country”, “State”, “City” de la entidad “Account” heredan de los campos “Country”, “State”, y “City” de la entidad “Lead”. El campo “State Text” tendrá el mismo valor que el campo “State”, y el campo “City Text” tendrán el mismo valor que el campo “City”.\\n\\nSi el país no está normalizado. Los campos “Country”, “State Text”, “City Text” de la entidad “Account” heredan de los campos “Country”, “State Text”, y “City Text” de la entidad “Lead”.\\n\\n\\n\\nIlustración 4. Campos \"Country\", \"State\", \"State Text\", \"City\", y \"City Text\" en la seccion \"Account Address\" en la pestaña \"General\".\\n\\nEl gestor podrá modificar los valores de los campos “Country”, “State”, “State Text”, “City”, y “City Text” teniendo en cuanta las siguientes consideraciones:\\n\\nSi el campo “Country” es un país normalizado:\\n\\nSi el valor del campo “Normalizado” en la entidad “Country” es igual a “Yes”, los campos “State”, y “City” serán visibles y obligatorios; mientras que los campos “State Text”, y “City Text” serán visibles, pero aparecerán bloqueados.\\n\\nEl campo “State Text” recibirá el valor que tenga el campo “Text”.\\n\\nEl campo “City Text” recibirá el valor que tenga el campo “City”.\\n\\nSi el país es normalizado el usuario podrá seleccionar en el campo “State” únicamente states pertenecientes a ese país.\\n\\nSi el país es normalizado, y ya se ha seleccionado un valor para el campo “State” el usuario podrá seleccionar únicamente ciudades pertenecientes al state seleccionado.\\n\\nSi el campo Country contiene un país normalizado, y el campo “State” cambia de valor, el campo “State Text” se actualizará con el valor del campo “State”.\\n\\nSi el usuario elimina el valor del campo “State” se eliminarán automáticamente los valores de los campos “State Text”, “City”, y “City Text”\\n\\nSi el campo Country contiene un país normalizado, y el campo “City” cambia de valor, el campo “City Text” se actualizará con el valor del campo “City”.\\n\\nSi el usuario elimina el valor del campo “City” se eliminarán automáticamente los valores del campos “City Text”.\\n\\nLos valores de los campos “State Text”, y “City Text” son dependientes de los campos “State” y “City”. Única, y exclusivamente se actualizan cuando se actualizan los campos “State”, o “City”. No se podrán actualizar los campos “State Text” o “City Text” manualmente.\\n\\nSi el campo “Country” no es un país normalizado:\\n\\nSi el valor del campo “Normalizado” en la entidad “Country” es igual a “No”, los campos “State”, y “City” serán ocultos, no obligatorios, y vacios; mientras que los campos “State Text”, y “City Text” serán visibles y editables.\\n\\nEl usuario no podrá introducir ningún valor en el campo “State” ya que será no visible.\\n\\nEl usuario podrá introducir cualquier valor de manera manual en el campo “State Text”.\\n\\nEl usuario no podrá introducir ningún valor en el campo “City” ya que será no visible.\\n\\nEl usuario podrá introducir cualquier valor de manera manual en el campo “City Text”.\\n\\nEn la entidad “Account” en la pestaña “Summary” en la sección “Account Billing Address” aparecerán cinco campos importantes. Los campos son:\\n\\nBilling Address Country, que es de tipo lookup\\n\\nBilling Address State, que es de tipo lookup\\n\\nBilling Address State Text, que es de tipo text.\\n\\nBilling Address City, que es de tipo lookup.\\n\\nBilling Address City Text, que es de tipo text.\\n\\nDependiendo de si el país esta normalizado o no la entidad “Account” recibirá unos valores u otros de la entidad “Lead”. En concreto será:\\n\\nSi el país esta normalizado. Los campos “Billing Address Country”, “Billing Address State”, “Billing Address City” de la entidad “Account” heredan de los campos “Country”, “State”, y “City” de la entidad “Lead”. El campo “Billing Address State Text” tendrá el mismo valor que el campo “Billing Address State”, y el campo “Billing Address City Text” tendrán el mismo valor que el campo “Billing Address City”.\\n\\nSi el país no está normalizado. Los campos “Billing Address Country”, “Billing Address State Text”, “Billing Address City Text” de la entidad “Account” heredan de los campos “Country”, “State Text”, y “City Text” de la entidad “Lead”.\\n\\n\\n\\nIlustración 5. Campos \"Billing Address Country\", \"Billing Address State\", \"Billing Address State Text\", \"Billing Address City\", Billing Address City Text\" de la sección \"Account Billing Address\" en la pestaña \"General\"\\n\\nEl gestor podrá modificar los valores de los campos “Billing Address Country”, “Billing Address State”, “Billing Address State Text”, “Billing Address City”, y “Billing Address City Text” teniendo en cuenta las siguientes consideraciones:\\n\\nSi el campo “Billing Address Country” es un país normalizado:\\n\\nSi el valor del campo “Normalizado” en la entidad “Billing Address Country” es igual a “Yes”, los campos “Billing Address State”, y “Billing Address City” serán visibles y obligatorios; mientras que los campos “Billing Address State Text”, y “Billing Address City Text” serán visibles, pero aparecerán bloqueados.\\n\\nEl campo “Billing Address State Text” recibirá el valor que tenga el campo “Billing Address Text”.\\n\\nEl campo “Billing Address City Text” recibirá el valor que tenga el campo “Billing Address City”.\\n\\nSi el país es normalizado el usuario podrá seleccionar en el campo “Billing Address State” únicamente states pertenecientes a ese país.\\n\\nSi el país es normalizado, y ya se ha seleccionado un valor para el campo “Billing Address State” el usuario podrá seleccionar únicamente ciudades pertenecientes al state seleccionado.\\n\\nSi el campo Country contiene un país normalizado, y el campo “Billing Address State” cambia de valor, el campo “Billing Address State Text” se actualizará con el valor del campo “Billing Address State”.\\n\\nSi el usuario elimina el valor del campo “Billing Address State” se eliminarán automáticamente los valores de los campos “Billing Address State Text”, “Billing Address City”, y “Billing Address City Text”\\n\\nSi el campo Country contiene un país normalizado, y el campo “Billing Address City” cambia de valor, el campo “Billing Address City Text” se actualizará con el valor del campo “Billing Address City”.\\n\\nSi el usuario elimina el valor del campo “Billing Address City” se eliminarán automáticamente los valores del campos “Billing Address City Text”.\\n\\nLos valores de los campos “Billing Address State Text”, y “Billing Address City Text” son dependientes de los campos “Billing Address State” y “Billing Address City”. Única, y exclusivamente se actualizan cuando se actualizan los campos “Billing Address State”, o “Billing Address City”. No se podrán actualizar los campos “Billing Address State Text” o “Billing Address City Text” manualmente.\\n\\nSi el campo “Country” no es un país normalizado:\\n\\nSi el valor del campo “Normalizado” en la entidad “Billing Address Country” es igual a “No”, los campos “Billing Address State”, y “Billing Address City” serán ocultos, no obligatorios, y vacios; mientras que los campos “Billing Address State Text”, y “Billing Address City Text” serán visibles y editables.\\n\\nEl usuario no podrá introducir ningún valor en el campo “Billing Address State” ya que será no visible.\\n\\nEl usuario podrá introducir cualquier valor de manera manual en el campo “Billing Address State Text”.\\n\\nEl usuario no podrá introducir ningún valor en el campo “Billing Address City” ya que será no visible.\\n\\nEl usuario podrá introducir cualquier valor de manera manual en el campo “Billing Address City Text”.', metadata={'source': 'documents_planeta/ACCOUNT.docx'}),\n",
       " Document(page_content='CONTACT\\n\\nEl “Contact” se ha creado simultáneamente a la creación del “Lead” en base a la información rellenada en la web de captación.\\n\\nEn la entidad Contact en la pestaña “Summary” aparecerán cinco campos. Los campos son:\\n\\nCountry, que es de tipo lookup\\n\\nState, que es de tipo lookup\\n\\nState Text, que es de tipo text.\\n\\nCity, que es de tipo lookup.\\n\\nCity Text, que es de tipo text.\\n\\n\\n\\nIlustración 10. Contacto Creado con los Datos obtenidos de la Web De Captación\\n\\nEl comportamiento de estos cinco campos dependerá del valor que tenga el campo “Normalizado” en la entidad “Country”.\\n\\n\\n\\nIlustración 2. Ejemplo de Pais con el campo Normalizado a \"yes\"\\n\\n\\n\\nIlustración 3. Ejemplo de Pais con el campo Normalizado a \"No\"\\n\\nSi el campo “Country” es un país normalizado:\\n\\nSi el valor del campo “Normalizado” en la entidad “Country” es igual a “Yes”, los campos “State”, y “City” serán visibles y obligatorios; mientras que los campos “State Text”, y “City Text” serán visibles, pero aparecerán bloqueados.\\n\\nEl campo “State Text” recibirá el valor que tenga el campo “Text”.\\n\\nEl campo “City Text” recibirá el valor que tenga el campo “City”.\\n\\nSi el país es normalizado el usuario podrá seleccionar en el campo “State” únicamente states pertenecientes a ese país.\\n\\nSi el país es normalizado, y ya se ha seleccionado un valor para el campo “State” el usuario podrá seleccionar únicamente ciudades pertenecientes al state seleccionado.\\n\\nSi el campo Country contiene un país normalizado, y el campo “State” cambia de valor, el campo “State Text” se actualizará con el valor del campo “State”.\\n\\nSi el usuario elimina el valor del campo “State” se eliminarán automáticamente los valores de los campos “State Text”, “City”, y “City Text”\\n\\nSi el campo Country contiene un país normalizado, y el campo “City” cambia de valor, el campo “City Text” se actualizará con el valor del campo “City”.\\n\\nSi el usuario elimina el valor del campo “City” se eliminarán automáticamente los valores del campos “City Text”.\\n\\nLos valores de los campos “State Text”, y “City Text” son dependientes de los campos “State” y “City”. Única, y exclusivamente se actualizan cuando se actualizan los campos “State”, o “City”. No se podrán actualizar los campos “State Text” o “City Text” manualmente.\\n\\nSi el campo “Country” no es un país normalizado:\\n\\nSi el valor del campo “Normalizado” en la entidad “Country” es igual a “No”, los campos “State”, y “City” serán ocultos, no obligatorios, y vacios; mientras que los campos “State Text”, y “City Text” serán visibles y editables.\\n\\nEl usuario no podrá introducir ningún valor en el campo “State” ya que será no visible.\\n\\nEl usuario podrá introducir cualquier valor de manera manual en el campo “State Text”.\\n\\nEl usuario no podrá introducir ningún valor en el campo “City” ya que será no visible.\\n\\nEl usuario podrá introducir cualquier valor de manera manual en el campo “City Text”.\\n\\nTambién existe la posibilidad de crear el “Lead” y el “Contact” manualmente desde el módulo de Marketing sin utilizar la web de captación. Para ello el usuario desde el módulo de marketing creara manualmente el “Lead” y el “Contact” introduciendo todos los valores de los campos.', metadata={'source': 'documents_planeta/CONTACT.docx'}),\n",
       " Document(page_content='LEAD\\n\\nTal y como hemos mencionado anteriormente el “Lead” se ha creado en base a la información rellenada en la web de captación que se ha enviado en un JSON. Automáticamente una vez se crea el “Lead” se cualifica instantáneamente en base a una serie de workflows, y business rules existentes en el CRM Atenea.\\n\\n\\n\\nIlustración 8. Lead cualificado en el módulo marketing\\n\\nCuando el “Lead” se cualifica se genera automáticamente una oportunidad con una “Account” o “Contact” en el módulo Sales con la información existente en el lead del módulo Marketing.\\n\\n\\n\\nIlustración 9. Oportunidad Creada Con Los Datos De La Web de Captación\\n\\n¿Cómo se cualifica el Lead? El Lead se cualifica automáticamente en base a una serie de condiciones que se tienen que dar en el Lead.', metadata={'source': 'documents_planeta/LEAD.docx'}),\n",
       " Document(page_content='MODULO MARKETING\\n\\nEl “Contact”, “Lead”, y “Opportunity” se crean automáticamente con los datos que se rellenaron en la Web de captación. Debido a que las webs de captación no solicitan mucha información no existirán muchos campos rellenos en el Contact, Lead, y Opportunity.\\n\\nLa entidad “Contact” aparecerá con los siguientes campos rellenos:\\n\\nInstitution\\n\\nFirst Name\\n\\nLast Name\\n\\nEmail\\n\\nPhone\\n\\nPreferred Method of Contact\\n\\nState\\n\\nCountry\\n\\nGender\\n\\nDifferent Address during program por defecto “No”\\n\\nSource por defecto el valor “Default Value”\\n\\nEl resto de los campos que aparecen rellenos en la entidad “Contact” a esta altura del proceso son en base a los datos anteriormente mencionados.\\n\\nLa entidad “Lead” aparecerá con los siguientes campos rellenos:\\n\\nParent Contact for lead\\n\\nInstitution\\n\\nFirst Name\\n\\nFirst Last Name\\n\\nEmail\\n\\nTelephone Number\\n\\nCountry\\n\\nState\\n\\nGender\\n\\nNationality\\n\\nAge\\n\\nTopic\\n\\nProgram of interest\\n\\nCampus\\n\\nSource Campaign\\n\\nCampaign Code\\n\\nPromotion\\n\\nModality Code\\n\\nLead origin\\n\\nCampaign URL\\n\\nIP\\n\\nDedication\\n\\nImpartation Type\\n\\nEl resto de los campos que aparecen rellenos en la entidad “Lead” a esta altura del proceso son en base a los datos anteriormente mencionados.\\n\\nLa entidad “Opportunity” aparecerá con los siguientes campos rellenos:\\n\\nOpportunity Id\\n\\nB2C/B2B\\n\\nProgram of Interest\\n\\nCampus\\n\\nProgram of interest\\n\\nProgramme version campus\\n\\nWorking with acceptance list\\n\\nTopic\\n\\nContact\\n\\nFirst Name\\n\\nLast Name\\n\\nEmail\\n\\nAddress 1: Phone\\n\\nCity\\n\\nState/Province\\n\\nCountry\\n\\nVIP\\n\\nCurrency\\n\\nForecast Category\\n\\nDescription\\n\\nEl resto de los campos que aparecen rellenos en la entidad “Lead” a esta altura del proceso son en base a los datos anteriormente mencionados.', metadata={'source': 'documents_planeta/MODULO+MARKETING.docx'}),\n",
       " Document(page_content='Operativa N1\\n\\nA continuación, se describen las diferentes acciones y comprobaciones a realizar de manera periódica por N1.\\n\\nLas acciones se documentan en modo checklist indicando el ámbito, la acción y la periodicidad\\n\\nÁmbito\\n\\nC\\n\\nDescripción acción\\n\\nPeriodicidad ejecución\\n\\n\\n\\nApertura y recepción peticiones\\n\\nC01\\n\\nRevisión y respuesta incidencias (Bug,support) en estado Open\\n\\nTodas las incidencias (bugs,support) deben de ser respondidas o reasignadas en menos de 4h. La petición pasa a estado “In evaluation” y se añade un comentario de valor añadido para negocio.\\n\\nContinuamente\\n\\n\\n\\n\\n\\nC02\\n\\nAnálisis de la incidencia (estado IN EVALUATION)\\n\\n\\xa0\\n\\nRevisar los datos/campos de la incidencia, corrigiendo y adecuándolos a la realidad y lo pactado, comunicando de manera inmediata al peticionario cualquier anomalía.\\n\\n\\xa0\\n\\n·\\xa0\\xa0\\xa0\\xa0\\xa0\\xa0\\xa0\\xa0\\xa0 Revisar que la Institución está correctamente informada. No aplica TRANSVERSAL\\n\\n·\\xa0\\xa0\\xa0\\xa0\\xa0\\xa0\\xa0\\xa0\\xa0 Cada ticket debe tratar un único caso, si no fuese así, se deberá informar al peticionario la necesidad de abrir tantos tickets como casos se mencionen.\\n\\n·\\xa0\\xa0\\xa0\\xa0\\xa0\\xa0\\xa0\\xa0\\xa0 Revisar que en el BTSM el componente está informado correctamente y con un único componente asignado.\\n\\n·\\xa0\\xa0\\xa0\\xa0\\xa0\\xa0\\xa0\\xa0\\xa0 Para los BTSM con componente “Otros”:\\xa0 revisar la petición y confirmar que realmente no encaja en la clasificación actual definida. \\nSi se aprecian nuevas funcionalidades se propondrá al PO dar de alta de nuevos componentes\\n\\nNo se aceptarán los BTSM con solo una línea descriptiva, sin explicar la petición y sin datos concretos sobre el resultado esperado.\\xa0 \\nSe solicitará al peticionario la ampliación de información si esta no es clara.\\n\\nCAMPOS OBLIGATORIOS: Para los bugs, en el campo descripción del BTSM, se deberá incluir obligatoriamente:\\n\\n\\xa0\\n\\nPasos a seguir hasta llegar al error. Descripción del error. Añadir pantallazo del problema\\n\\nLo que se esperaba que hiciera la aplicación o proceso\\n\\nOtros datos que puedan ser de interés: usuario al que le ha dado el error, caso concreto del error, oportunidad incorrecta, etc.\\n\\nAdemás, si se admite como bloqueante se deberá dar un método de contacto y estar disponible para la resolución de cualquier duda o aclaración que se presente.\\n\\n\\xa0\\n\\nDiaria\\n\\n\\n\\n\\n\\nC03\\n\\nPrimera respuesta al Peticionario\\n\\nUna vez revisado el contenido del ticket, se pueden dar dos circunstancias:\\n\\nLa resolución del ticket se puede realizar de manera inmediata (dentro de las primeras 4 horas). Se trabajará hasta su resolución informando del final de intervención únicamente.\\n\\nLa resolución del ticket se prevé que se dilate en el tiempo, o es necesaria información adicional, se realizará una anotación en el mismo para confirmar al Peticionario que se ha recibido el ticket se informará sobre el tiempo previsto de resolución en base a los SLA’s dinámicos (Ver mensaje SLA Dinámico).\\n\\nSólo aplica a Bugs\\n\\nContinuado\\n\\n\\n\\n\\n\\nC04\\n\\nRevisión y respuesta a Soportes (Support) en estado Open\\n\\nPriorizar en la revisión aquellas que se han priorizado como Bloqueante para evaluar si son realmente incidencias.\\n\\nContinuado\\n\\n\\n\\n\\n\\nC05\\n\\nAgrupar las peticiones BTSM duplicadas o con causa común identificada. Se identificará una como ”padre” y todas se relacionarán con la misma.\\n\\nLos BTSM ”hijos” se rechazarán con estado REJECTED\\n\\nSe informará al peticionario del motivo de la desestimación y se compartirá el Jira en el cual podrá realizar el seguimiento de su petición añadiendo al Peticionario en la lista de \\xa0“Request participants” del Jira “padre”.\\n\\nDiaria\\n\\n\\n\\n\\n\\nC06\\n\\nAsignación de tareas en N1. Se hará nominalmente en base a la carga de trabajo y/o conocimientos de los técnicos, añadiendo un comentario en el ticket.\\nSi se comprueba que se está trabajando en una solución por parte de N2, se asociará al ticket correspondiente.\\n\\nDiaria\\n\\n\\xa0\\n\\n\\n\\nOperativa\\n\\nC07\\n\\nEstado de los tickets\\n\\n\\xa0\\n\\nLas incidencias sobre las que se esté trabajando estarán en estado WORKAROUND.\\n\\nLas incidencias pendientes de tratar deben estar en estado BACKLOG en la cola de cada Técnico.\\n\\n\\xa0\\n\\nDiaria\\n\\n\\n\\n\\n\\nC08\\n\\nEscalar una consulta a N2\\n\\nSi se tiene que hacer alguna consulta al equipo de N2, se anotará la consulta a realizar y se dejará el ticket, con todos los datos, en estado RAISED (La propiedad del ticket continúa siendo del Técnico N1). El Proxy Product Owner (PPO) revisará periódicamente estos tickets, creando la documentación necesaria, si procede, respondiendo en el propio ticket y mencionando (@Nombre) al owner del ticket.\\n\\nSi el PPO considera que debe ser tratado por N2 lo indicará en el ticket para que el técnico N1 cree el Jira SW correspondiente. de tipo Bug, que será el que tratará el Equipo de N2. Cambiando también el BTSM a tipo Bug.\\n\\nAsimismo si se estima que se debe ampliar la información con la ayuda del PO, se activará el proceso de Gestión de consultas a Product Owner\\n\\n\\n\\nDiaria\\n\\n\\n\\nC08 Bis\\n\\nEscalar un bug a N2\\n\\nEl ticket inicial (BTSM) deberá quedar en estado DEVELOPMENT, siendo actualizado por el Release Manager/QA cuando corresponda.\\n\\nSe asociará el BTA/BASM/BTED/BTPW con la opción Is Blocked By\\n\\nEn todos los casos hay que informar al Peticionario que es necesario un desarrollo y que se informará vía las Releases de Producto.\\n\\n\\xa0En el caso de tickets relacionados con EdTech se creará un Jira SW en el proyecto BTED (informar el Epic Link BTED-21), el técnico N2 de EdTech actualizará el ticket, recibiendo el Técnico que crea el BTED las actualizaciones para informar al peticionario.\\n\\n\\xa0\\n\\nEn el caso de tickets relacionados con Performance Web se creará un Jira SW en el proyecto BTPW (informar el Epic BTPW-9 Maintenance Performance Web), el técnico N2 de Performance Web actualizará el ticket, recibiendo el técnico que crea el BTPW las actualizaciones para informar al peticionario.\\n\\n\\n\\n\\n\\n\\n\\nC09\\n\\nCreación de Problemas\\n\\n\\xa0\\n\\nCon el fin de reducir la volumetría de incidencias, se deberán crear problemas cuyo objetivo será determinar la causa raíz de temas que tengan un denominador común con el objetivo de erradicarlo de manera definitiva.\\n\\n\\xa0\\n\\n·\\xa0\\xa0\\xa0\\xa0\\xa0\\xa0\\xa0\\xa0\\xa0 Se creará un BTSM de tipo Problema\\n\\n·\\xa0\\xa0\\xa0\\xa0\\xa0\\xa0\\xa0\\xa0\\xa0 Cada ticket relacionado con el Problema se vinculará con la opción Relates to\\n\\n·\\xa0\\xa0\\xa0\\xa0\\xa0\\xa0\\xa0\\xa0\\xa0 Si debe escalarse su resolución a N2, se creará el BASM/BTA/BTED/BTPW de tipo Bug, correspondiente, vinculándolo con la opción Is Caused by.\\n\\n·\\xa0\\xa0\\xa0\\xa0\\xa0\\xa0\\xa0\\xa0\\xa0 Informar en el Problema del Workaround a aplicar y cerrar los tickets una vez aplicado.\\n\\n\\xa0\\n\\n\\n\\n\\n\\nC10\\n\\nCierre administrativo\\n\\n\\xa0\\n\\n·\\xa0\\xa0\\xa0\\xa0\\xa0\\xa0\\xa0\\xa0\\xa0 Estado UAT\\n\\nLos BTSM resueltos que no necesitan despliegue y que llevan más de 4 días laborables se cerrarán en el 5 día por falta de feedback. Previamente se habrá Informado al peticionario.\\n\\n\\xa0\\n\\nEn los BTSM relativos a cambios de contraseña, desbloqueo de usuarios y otras casuísticas que sean susceptibles de ser comprobadas de manera más inmediata, el plazo de cierre será de 2 días laborables, cerrándose el segundo día sin confirmación.\\n\\n\\xa0\\n\\n·\\xa0\\xa0\\xa0\\xa0\\xa0\\xa0\\xa0\\xa0\\xa0 Estado PENDING INFO\\n\\nLos BTSM que vienen con falta de explicaciones, o datos en el momento de su apertura, si en 3 días laborables no hay respuesta se cerrará la petición al cuarto día, avisando previamente al peticionario e informando del motivo de cierre\\n\\n\\xa0\\n\\nLos BTSM con más de 4 días laborables sin respuesta de negocio se cerrarán por falta de feedback al quinto día. Previamente se habrá Informado al peticionario.\\n\\n\\xa0\\n\\nSe deberá tener en cuenta los periodos de vacaciones de Semana Santa, Navidad y Agosto donde estos periodos no aplican por no ser días lectivos.\\n\\nDiaria\\n\\n\\n\\n\\n\\nC11\\n\\nDocumentar el ticket\\n\\n\\xa0\\n\\nSe debe informar cualquier contacto/reunión/llamada, etc. Que se haya mantenido con el peticionario, para que conste todo el histórico de las acciones realizadas.\\n\\nSe debe informar la resolución en el campo comentario en base a los formatos estándares definidos.\\n\\nDiaria\\n\\n\\n\\n\\n\\nC12\\n\\nSeguimiento de tickets\\n\\n\\xa0\\n\\nLas incidencias deben ser revisadas de manera regular para mantenerlas actualizadas en todo momento\\n\\nEn los tickets en estado UAT y PENDING INFO, se debe comunicar con el usuario cada dos días hasta la fecha de vencimiento\\n\\nMínimo 2 veces al día (a primera hora de la mañana y primera hora de la tarde)\\n\\n\\n\\n\\n\\nC13\\n\\nSeguimiento de tickets escalados a N2\\n\\n\\xa0\\n\\nLos tickets escalados a N2, que tienen un BASM/BTA/BTED/BTPW asociado sobre el que trabaja el Equipo de N2, deben ser revisados y actualizados periódicamente, anotando los avances que se hayan podido producir. Ello permitirá dar visibilidad a los peticionarios del punto en el que está su solicitud.\\n\\nSemanalmente\\n\\n\\n\\nComunicaciones\\n\\nC14\\n\\nMedios de contacto\\n\\n\\xa0\\n\\nLas incidencias llegarán mediante Jira, siendo este soporte el medio de comunicación con toda la organización, sobre el caso tratado.\\n\\n\\xa0\\n\\nExcepcionalmente y a criterio del Técnico, para agilizar la resolución, se podrán utilizar otros medios de contacto, quedando fielmente reflejado tal como se indica en el punto Operativa à Documentar el Ticket.\\n\\n\\xa0\\n\\nLos comentarios se añadirán al ticket personalizando el usuario con @Usuario para que reciba un correo\\n\\n\\xa0\\n\\n\\xa0\\n\\n\\n\\n\\n\\nC15\\n\\nNo se deben trasladar al peticionario comentarios ajenos al desarrollo de su petición, ajustando los mensajes a lo descrito en el apartado FORMATO PARA LAS RESPUESTAS ESTÁNDARES EN JIRA', metadata={'source': 'documents_planeta/Operativa+N1.docx'}),\n",
       " Document(page_content='WEB DE CAPTACIÓN\\n\\nEl future alumno entra en la web de captación (www.eae.es) desde donde buscara la carrera o master el cual este interesado en cursar. Para localizar la carrera o master en la web deberá rellenar los campos “Full Time”, “Area Formativa”, “Campus”, “Español”.\\n\\n\\n\\nIlustración 2. Web de Captación\\n\\nCuando el alumno pulsa en el botón “Buscar” le aparecerá en la web un listado con todas las carreras y masters disponibles en base a los criterios de búsqueda que ha establecido.\\n\\n\\n\\nIlustración 3. Listado de Carreras, y Masters en base a los criterios de búsqueda\\n\\nEl alumno deberá seleccionar en la carrera o master que esta interesado cursar para así poder avanzar con la admisión. En concreto deberá pulsar en el botón “Mas información” perteneciente al master o carrera.\\n\\n\\n\\nIlustración 4. botón \"Mas información\" asociado a la carrera o master seleccionado\\n\\nUna vez el alumno haya accedido al programa de la carrera o master podrá observar múltiples secciones donde encontrara toda la información que puede necesitar. Entras las secciones a destacar mencionar “Presentación”, “Programa”, “Experiencia”, “Admisión”, y “Financiación”. En la parte superior derecha podrá un breve resumen donde se le indica al estudiante cuantas plazas quedan disponibles, el formato, la modalidad, la duración, los créditos necesarios para la finalización de la carrera o máster, el idioma en que se imparten las clases, y en el campus se esta dando la carrera o master.\\n\\nPara que el alumno comience con el proceso de matriculación debe pulsar en el botón rojo con el texto “Admisión” que se encuentra en la parte superior izquierda de la pantalla.\\n\\n\\n\\nIlustración 5. Pagina Informativa de la Carrera o master seleccionado\\n\\nUna vez el alumno pulsa en el botón “Admision” aparecerá una nueva pantalla en la cual el alumno debe rellenar todos los datos para al pulsar en el botón “Enviar” se creará un “Contact” y un “Lead” en el modulo de marketing de Atenea con la información que ha rellenado el alumno.\\n\\n\\n\\nIlustración 6. envió información para admisión a la carrera o master seleccionado\\n\\nLa web de captación envía un JSON al módulo de marketing con todos los datos que se le han solicitado al futuro alumno para la creación del “Contact”, el “Lead, ”y la “Opportunity”\\n\\nEjemplo de JSON enviado al módulo de Marketing desde la web de captación:\\n\\n{\\n\\n\"estudio\": {\\n\\n\"nivel\": \"ES-5\",\\n\\n\"datosInteres\": \"string\"\\n\\n},\\n\\n\"key\": {\\n\\n\"id\": \"1666678920\",\\n\\n\"marca\": \"VIU\",\\n\\n\"fechaSolicitud\": \"2022-10-25 06:22:00\",\\n\\n\"proveedor\": \"VIU\",\\n\\n\"tipo\": \"SI\"\\n\\n},\\n\\n\"lead\": {\\n\\n\"nombre\": \"Rosa\",\\n\\n\"primerApellido\": \"Sanchis Gimeno\",\\n\\n\"fechaNacimiento\": \"1964-10-25\",\\n\\n\"telefono1\": \"34607663773\",\\n\\n\"email\": \"rosasanchisg@gmail.com\",\\n\\n\"sexo\": \"1\",\\n\\n\"pais\": \"España\",\\n\\n\"paisISO\": \"ES\",\\n\\n\"provinciaISO\": \"ES-V\",\\n\\n\"provinciaNoNormalizada\": \" Valencia/València\"\\n\\n},\\n\\n\"marketing\": {\\n\\n\"campanya\": \"I90502U0617\",\\n\\n\"origen\": \"3\",\\n\\n\"url\": \"https://www.universidadviu.com/es/master-prevencion-riesgos-laborales-prl \",\\n\\n\"ip\": \"46.24.25.57, 172.70.59.182, 34.120.159.20\"\\n\\n},\\n\\n\"programa\": {\\n\\n\"nombre\": \"86\",\\n\\n\"campus\": \"1\",\\n\\n\"dedicacion\": \"1\",\\n\\n\"tipoDeImparticion\": \"1\",\\n\\n\"horario\": \"1\"\\n\\n},\\n\\n\"rgpd\": {\\n\\n\"rgpd\": true,\\n\\n\"rgpD1\": false,\\n\\n\"rgpD2\": false,\\n\\n\"fecha\": \"20221025 062200\"\\n\\n}\\n\\n}\\n\\n\\xa0\\n\\n\\xa0\\n\\nEl JSON se puede consultar en la pestaña “Integrated Data” del “Lead” en el módulo Marketing de Atenea.\\n\\n\\xa0\\n\\n\\n\\nIlustración 7. JSON enviado desde Web Captación a modulo marketing', metadata={'source': 'documents_planeta/WEB+DE+CAPTACIÓN.docx'})]"
      ]
     },
     "execution_count": 40,
     "metadata": {},
     "output_type": "execute_result"
    }
   ],
   "source": [
    "loader = DirectoryLoader('./documents_planeta/', glob=\"*.docx\", loader_cls=Docx2txtLoader)\n",
    "\n",
    "data = loader.load()\n",
    "data"
   ]
  },
  {
   "cell_type": "markdown",
   "id": "053cb81b-c74c-4c36-ab1e-0e785075360b",
   "metadata": {},
   "source": [
    "### Split Documents"
   ]
  },
  {
   "cell_type": "code",
   "execution_count": 41,
   "id": "0e1c9ee7-36e8-492e-8d12-f52a1c278b8f",
   "metadata": {
    "collapsed": true,
    "jupyter": {
     "outputs_hidden": true
    }
   },
   "outputs": [
    {
     "data": {
      "text/plain": [
       "[Document(page_content='ACCOUNT\\n\\nEn la entidad “Account” en la pestaña “Summary” en la sección “Account Address” aparecerán cinco campos importantes. Los campos son:\\n\\nCountry, que es de tipo lookup\\n\\nState, que es de tipo lookup\\n\\nState Text, que es de tipo text.\\n\\nCity, que es de tipo lookup.\\n\\nCity Text, que es de tipo text.\\n\\nDependiendo de si el país esta normalizado o no la entidad “Account” recibirá unos valores u otros de la entidad “Lead”. En concreto será:\\n\\nSi el país esta normalizado. Los campos “Country”, “State”, “City” de la entidad “Account” heredan de los campos “Country”, “State”, y “City” de la entidad “Lead”. El campo “State Text” tendrá el mismo valor que el campo “State”, y el campo “City Text” tendrán el mismo valor que el campo “City”.\\n\\nSi el país no está normalizado. Los campos “Country”, “State Text”, “City Text” de la entidad “Account” heredan de los campos “Country”, “State Text”, y “City Text” de la entidad “Lead”.', metadata={'source': 'documents_planeta/ACCOUNT.docx'}),\n",
       " Document(page_content='Si el país no está normalizado. Los campos “Country”, “State Text”, “City Text” de la entidad “Account” heredan de los campos “Country”, “State Text”, y “City Text” de la entidad “Lead”.\\n\\n\\n\\nIlustración 4. Campos \"Country\", \"State\", \"State Text\", \"City\", y \"City Text\" en la seccion \"Account Address\" en la pestaña \"General\".\\n\\nEl gestor podrá modificar los valores de los campos “Country”, “State”, “State Text”, “City”, y “City Text” teniendo en cuanta las siguientes consideraciones:\\n\\nSi el campo “Country” es un país normalizado:\\n\\nSi el valor del campo “Normalizado” en la entidad “Country” es igual a “Yes”, los campos “State”, y “City” serán visibles y obligatorios; mientras que los campos “State Text”, y “City Text” serán visibles, pero aparecerán bloqueados.\\n\\nEl campo “State Text” recibirá el valor que tenga el campo “Text”.\\n\\nEl campo “City Text” recibirá el valor que tenga el campo “City”.', metadata={'source': 'documents_planeta/ACCOUNT.docx'}),\n",
       " Document(page_content='El campo “State Text” recibirá el valor que tenga el campo “Text”.\\n\\nEl campo “City Text” recibirá el valor que tenga el campo “City”.\\n\\nSi el país es normalizado el usuario podrá seleccionar en el campo “State” únicamente states pertenecientes a ese país.\\n\\nSi el país es normalizado, y ya se ha seleccionado un valor para el campo “State” el usuario podrá seleccionar únicamente ciudades pertenecientes al state seleccionado.\\n\\nSi el campo Country contiene un país normalizado, y el campo “State” cambia de valor, el campo “State Text” se actualizará con el valor del campo “State”.\\n\\nSi el usuario elimina el valor del campo “State” se eliminarán automáticamente los valores de los campos “State Text”, “City”, y “City Text”\\n\\nSi el campo Country contiene un país normalizado, y el campo “City” cambia de valor, el campo “City Text” se actualizará con el valor del campo “City”.\\n\\nSi el usuario elimina el valor del campo “City” se eliminarán automáticamente los valores del campos “City Text”.', metadata={'source': 'documents_planeta/ACCOUNT.docx'}),\n",
       " Document(page_content='Si el usuario elimina el valor del campo “City” se eliminarán automáticamente los valores del campos “City Text”.\\n\\nLos valores de los campos “State Text”, y “City Text” son dependientes de los campos “State” y “City”. Única, y exclusivamente se actualizan cuando se actualizan los campos “State”, o “City”. No se podrán actualizar los campos “State Text” o “City Text” manualmente.\\n\\nSi el campo “Country” no es un país normalizado:\\n\\nSi el valor del campo “Normalizado” en la entidad “Country” es igual a “No”, los campos “State”, y “City” serán ocultos, no obligatorios, y vacios; mientras que los campos “State Text”, y “City Text” serán visibles y editables.\\n\\nEl usuario no podrá introducir ningún valor en el campo “State” ya que será no visible.\\n\\nEl usuario podrá introducir cualquier valor de manera manual en el campo “State Text”.\\n\\nEl usuario no podrá introducir ningún valor en el campo “City” ya que será no visible.', metadata={'source': 'documents_planeta/ACCOUNT.docx'}),\n",
       " Document(page_content='El usuario podrá introducir cualquier valor de manera manual en el campo “State Text”.\\n\\nEl usuario no podrá introducir ningún valor en el campo “City” ya que será no visible.\\n\\nEl usuario podrá introducir cualquier valor de manera manual en el campo “City Text”.\\n\\nEn la entidad “Account” en la pestaña “Summary” en la sección “Account Billing Address” aparecerán cinco campos importantes. Los campos son:\\n\\nBilling Address Country, que es de tipo lookup\\n\\nBilling Address State, que es de tipo lookup\\n\\nBilling Address State Text, que es de tipo text.\\n\\nBilling Address City, que es de tipo lookup.\\n\\nBilling Address City Text, que es de tipo text.\\n\\nDependiendo de si el país esta normalizado o no la entidad “Account” recibirá unos valores u otros de la entidad “Lead”. En concreto será:', metadata={'source': 'documents_planeta/ACCOUNT.docx'}),\n",
       " Document(page_content='Billing Address City Text, que es de tipo text.\\n\\nDependiendo de si el país esta normalizado o no la entidad “Account” recibirá unos valores u otros de la entidad “Lead”. En concreto será:\\n\\nSi el país esta normalizado. Los campos “Billing Address Country”, “Billing Address State”, “Billing Address City” de la entidad “Account” heredan de los campos “Country”, “State”, y “City” de la entidad “Lead”. El campo “Billing Address State Text” tendrá el mismo valor que el campo “Billing Address State”, y el campo “Billing Address City Text” tendrán el mismo valor que el campo “Billing Address City”.\\n\\nSi el país no está normalizado. Los campos “Billing Address Country”, “Billing Address State Text”, “Billing Address City Text” de la entidad “Account” heredan de los campos “Country”, “State Text”, y “City Text” de la entidad “Lead”.', metadata={'source': 'documents_planeta/ACCOUNT.docx'}),\n",
       " Document(page_content='Ilustración 5. Campos \"Billing Address Country\", \"Billing Address State\", \"Billing Address State Text\", \"Billing Address City\", Billing Address City Text\" de la sección \"Account Billing Address\" en la pestaña \"General\"\\n\\nEl gestor podrá modificar los valores de los campos “Billing Address Country”, “Billing Address State”, “Billing Address State Text”, “Billing Address City”, y “Billing Address City Text” teniendo en cuenta las siguientes consideraciones:\\n\\nSi el campo “Billing Address Country” es un país normalizado:\\n\\nSi el valor del campo “Normalizado” en la entidad “Billing Address Country” es igual a “Yes”, los campos “Billing Address State”, y “Billing Address City” serán visibles y obligatorios; mientras que los campos “Billing Address State Text”, y “Billing Address City Text” serán visibles, pero aparecerán bloqueados.\\n\\nEl campo “Billing Address State Text” recibirá el valor que tenga el campo “Billing Address Text”.', metadata={'source': 'documents_planeta/ACCOUNT.docx'}),\n",
       " Document(page_content='El campo “Billing Address State Text” recibirá el valor que tenga el campo “Billing Address Text”.\\n\\nEl campo “Billing Address City Text” recibirá el valor que tenga el campo “Billing Address City”.\\n\\nSi el país es normalizado el usuario podrá seleccionar en el campo “Billing Address State” únicamente states pertenecientes a ese país.\\n\\nSi el país es normalizado, y ya se ha seleccionado un valor para el campo “Billing Address State” el usuario podrá seleccionar únicamente ciudades pertenecientes al state seleccionado.\\n\\nSi el campo Country contiene un país normalizado, y el campo “Billing Address State” cambia de valor, el campo “Billing Address State Text” se actualizará con el valor del campo “Billing Address State”.\\n\\nSi el usuario elimina el valor del campo “Billing Address State” se eliminarán automáticamente los valores de los campos “Billing Address State Text”, “Billing Address City”, y “Billing Address City Text”', metadata={'source': 'documents_planeta/ACCOUNT.docx'}),\n",
       " Document(page_content='Si el campo Country contiene un país normalizado, y el campo “Billing Address City” cambia de valor, el campo “Billing Address City Text” se actualizará con el valor del campo “Billing Address City”.\\n\\nSi el usuario elimina el valor del campo “Billing Address City” se eliminarán automáticamente los valores del campos “Billing Address City Text”.\\n\\nLos valores de los campos “Billing Address State Text”, y “Billing Address City Text” son dependientes de los campos “Billing Address State” y “Billing Address City”. Única, y exclusivamente se actualizan cuando se actualizan los campos “Billing Address State”, o “Billing Address City”. No se podrán actualizar los campos “Billing Address State Text” o “Billing Address City Text” manualmente.\\n\\nSi el campo “Country” no es un país normalizado:', metadata={'source': 'documents_planeta/ACCOUNT.docx'}),\n",
       " Document(page_content='Si el campo “Country” no es un país normalizado:\\n\\nSi el valor del campo “Normalizado” en la entidad “Billing Address Country” es igual a “No”, los campos “Billing Address State”, y “Billing Address City” serán ocultos, no obligatorios, y vacios; mientras que los campos “Billing Address State Text”, y “Billing Address City Text” serán visibles y editables.\\n\\nEl usuario no podrá introducir ningún valor en el campo “Billing Address State” ya que será no visible.\\n\\nEl usuario podrá introducir cualquier valor de manera manual en el campo “Billing Address State Text”.\\n\\nEl usuario no podrá introducir ningún valor en el campo “Billing Address City” ya que será no visible.\\n\\nEl usuario podrá introducir cualquier valor de manera manual en el campo “Billing Address City Text”.', metadata={'source': 'documents_planeta/ACCOUNT.docx'}),\n",
       " Document(page_content='CONTACT\\n\\nEl “Contact” se ha creado simultáneamente a la creación del “Lead” en base a la información rellenada en la web de captación.\\n\\nEn la entidad Contact en la pestaña “Summary” aparecerán cinco campos. Los campos son:\\n\\nCountry, que es de tipo lookup\\n\\nState, que es de tipo lookup\\n\\nState Text, que es de tipo text.\\n\\nCity, que es de tipo lookup.\\n\\nCity Text, que es de tipo text.\\n\\n\\n\\nIlustración 10. Contacto Creado con los Datos obtenidos de la Web De Captación\\n\\nEl comportamiento de estos cinco campos dependerá del valor que tenga el campo “Normalizado” en la entidad “Country”.\\n\\n\\n\\nIlustración 2. Ejemplo de Pais con el campo Normalizado a \"yes\"\\n\\n\\n\\nIlustración 3. Ejemplo de Pais con el campo Normalizado a \"No\"\\n\\nSi el campo “Country” es un país normalizado:\\n\\nSi el valor del campo “Normalizado” en la entidad “Country” es igual a “Yes”, los campos “State”, y “City” serán visibles y obligatorios; mientras que los campos “State Text”, y “City Text” serán visibles, pero aparecerán bloqueados.', metadata={'source': 'documents_planeta/CONTACT.docx'}),\n",
       " Document(page_content='El campo “State Text” recibirá el valor que tenga el campo “Text”.\\n\\nEl campo “City Text” recibirá el valor que tenga el campo “City”.\\n\\nSi el país es normalizado el usuario podrá seleccionar en el campo “State” únicamente states pertenecientes a ese país.\\n\\nSi el país es normalizado, y ya se ha seleccionado un valor para el campo “State” el usuario podrá seleccionar únicamente ciudades pertenecientes al state seleccionado.\\n\\nSi el campo Country contiene un país normalizado, y el campo “State” cambia de valor, el campo “State Text” se actualizará con el valor del campo “State”.\\n\\nSi el usuario elimina el valor del campo “State” se eliminarán automáticamente los valores de los campos “State Text”, “City”, y “City Text”\\n\\nSi el campo Country contiene un país normalizado, y el campo “City” cambia de valor, el campo “City Text” se actualizará con el valor del campo “City”.\\n\\nSi el usuario elimina el valor del campo “City” se eliminarán automáticamente los valores del campos “City Text”.', metadata={'source': 'documents_planeta/CONTACT.docx'}),\n",
       " Document(page_content='Si el usuario elimina el valor del campo “City” se eliminarán automáticamente los valores del campos “City Text”.\\n\\nLos valores de los campos “State Text”, y “City Text” son dependientes de los campos “State” y “City”. Única, y exclusivamente se actualizan cuando se actualizan los campos “State”, o “City”. No se podrán actualizar los campos “State Text” o “City Text” manualmente.\\n\\nSi el campo “Country” no es un país normalizado:\\n\\nSi el valor del campo “Normalizado” en la entidad “Country” es igual a “No”, los campos “State”, y “City” serán ocultos, no obligatorios, y vacios; mientras que los campos “State Text”, y “City Text” serán visibles y editables.\\n\\nEl usuario no podrá introducir ningún valor en el campo “State” ya que será no visible.\\n\\nEl usuario podrá introducir cualquier valor de manera manual en el campo “State Text”.\\n\\nEl usuario no podrá introducir ningún valor en el campo “City” ya que será no visible.', metadata={'source': 'documents_planeta/CONTACT.docx'}),\n",
       " Document(page_content='El usuario podrá introducir cualquier valor de manera manual en el campo “State Text”.\\n\\nEl usuario no podrá introducir ningún valor en el campo “City” ya que será no visible.\\n\\nEl usuario podrá introducir cualquier valor de manera manual en el campo “City Text”.\\n\\nTambién existe la posibilidad de crear el “Lead” y el “Contact” manualmente desde el módulo de Marketing sin utilizar la web de captación. Para ello el usuario desde el módulo de marketing creara manualmente el “Lead” y el “Contact” introduciendo todos los valores de los campos.', metadata={'source': 'documents_planeta/CONTACT.docx'}),\n",
       " Document(page_content='LEAD\\n\\nTal y como hemos mencionado anteriormente el “Lead” se ha creado en base a la información rellenada en la web de captación que se ha enviado en un JSON. Automáticamente una vez se crea el “Lead” se cualifica instantáneamente en base a una serie de workflows, y business rules existentes en el CRM Atenea.\\n\\n\\n\\nIlustración 8. Lead cualificado en el módulo marketing\\n\\nCuando el “Lead” se cualifica se genera automáticamente una oportunidad con una “Account” o “Contact” en el módulo Sales con la información existente en el lead del módulo Marketing.\\n\\n\\n\\nIlustración 9. Oportunidad Creada Con Los Datos De La Web de Captación\\n\\n¿Cómo se cualifica el Lead? El Lead se cualifica automáticamente en base a una serie de condiciones que se tienen que dar en el Lead.', metadata={'source': 'documents_planeta/LEAD.docx'}),\n",
       " Document(page_content='MODULO MARKETING\\n\\nEl “Contact”, “Lead”, y “Opportunity” se crean automáticamente con los datos que se rellenaron en la Web de captación. Debido a que las webs de captación no solicitan mucha información no existirán muchos campos rellenos en el Contact, Lead, y Opportunity.\\n\\nLa entidad “Contact” aparecerá con los siguientes campos rellenos:\\n\\nInstitution\\n\\nFirst Name\\n\\nLast Name\\n\\nEmail\\n\\nPhone\\n\\nPreferred Method of Contact\\n\\nState\\n\\nCountry\\n\\nGender\\n\\nDifferent Address during program por defecto “No”\\n\\nSource por defecto el valor “Default Value”\\n\\nEl resto de los campos que aparecen rellenos en la entidad “Contact” a esta altura del proceso son en base a los datos anteriormente mencionados.\\n\\nLa entidad “Lead” aparecerá con los siguientes campos rellenos:\\n\\nParent Contact for lead\\n\\nInstitution\\n\\nFirst Name\\n\\nFirst Last Name\\n\\nEmail\\n\\nTelephone Number\\n\\nCountry\\n\\nState\\n\\nGender\\n\\nNationality\\n\\nAge\\n\\nTopic\\n\\nProgram of interest\\n\\nCampus\\n\\nSource Campaign\\n\\nCampaign Code\\n\\nPromotion\\n\\nModality Code\\n\\nLead origin', metadata={'source': 'documents_planeta/MODULO+MARKETING.docx'}),\n",
       " Document(page_content='First Last Name\\n\\nEmail\\n\\nTelephone Number\\n\\nCountry\\n\\nState\\n\\nGender\\n\\nNationality\\n\\nAge\\n\\nTopic\\n\\nProgram of interest\\n\\nCampus\\n\\nSource Campaign\\n\\nCampaign Code\\n\\nPromotion\\n\\nModality Code\\n\\nLead origin\\n\\nCampaign URL\\n\\nIP\\n\\nDedication\\n\\nImpartation Type\\n\\nEl resto de los campos que aparecen rellenos en la entidad “Lead” a esta altura del proceso son en base a los datos anteriormente mencionados.\\n\\nLa entidad “Opportunity” aparecerá con los siguientes campos rellenos:\\n\\nOpportunity Id\\n\\nB2C/B2B\\n\\nProgram of Interest\\n\\nCampus\\n\\nProgram of interest\\n\\nProgramme version campus\\n\\nWorking with acceptance list\\n\\nTopic\\n\\nContact\\n\\nFirst Name\\n\\nLast Name\\n\\nEmail\\n\\nAddress 1: Phone\\n\\nCity\\n\\nState/Province\\n\\nCountry\\n\\nVIP\\n\\nCurrency\\n\\nForecast Category\\n\\nDescription\\n\\nEl resto de los campos que aparecen rellenos en la entidad “Lead” a esta altura del proceso son en base a los datos anteriormente mencionados.', metadata={'source': 'documents_planeta/MODULO+MARKETING.docx'}),\n",
       " Document(page_content='Operativa N1\\n\\nA continuación, se describen las diferentes acciones y comprobaciones a realizar de manera periódica por N1.\\n\\nLas acciones se documentan en modo checklist indicando el ámbito, la acción y la periodicidad\\n\\nÁmbito\\n\\nC\\n\\nDescripción acción\\n\\nPeriodicidad ejecución\\n\\n\\n\\nApertura y recepción peticiones\\n\\nC01\\n\\nRevisión y respuesta incidencias (Bug,support) en estado Open\\n\\nTodas las incidencias (bugs,support) deben de ser respondidas o reasignadas en menos de 4h. La petición pasa a estado “In evaluation” y se añade un comentario de valor añadido para negocio.\\n\\nContinuamente\\n\\n\\n\\n\\n\\nC02\\n\\nAnálisis de la incidencia (estado IN EVALUATION)\\n\\n\\xa0\\n\\nRevisar los datos/campos de la incidencia, corrigiendo y adecuándolos a la realidad y lo pactado, comunicando de manera inmediata al peticionario cualquier anomalía.\\n\\n\\xa0\\n\\n·\\xa0\\xa0\\xa0\\xa0\\xa0\\xa0\\xa0\\xa0\\xa0 Revisar que la Institución está correctamente informada. No aplica TRANSVERSAL', metadata={'source': 'documents_planeta/Operativa+N1.docx'}),\n",
       " Document(page_content='·\\xa0\\xa0\\xa0\\xa0\\xa0\\xa0\\xa0\\xa0\\xa0 Revisar que la Institución está correctamente informada. No aplica TRANSVERSAL\\n\\n·\\xa0\\xa0\\xa0\\xa0\\xa0\\xa0\\xa0\\xa0\\xa0 Cada ticket debe tratar un único caso, si no fuese así, se deberá informar al peticionario la necesidad de abrir tantos tickets como casos se mencionen.\\n\\n·\\xa0\\xa0\\xa0\\xa0\\xa0\\xa0\\xa0\\xa0\\xa0 Revisar que en el BTSM el componente está informado correctamente y con un único componente asignado.\\n\\n·\\xa0\\xa0\\xa0\\xa0\\xa0\\xa0\\xa0\\xa0\\xa0 Para los BTSM con componente “Otros”:\\xa0 revisar la petición y confirmar que realmente no encaja en la clasificación actual definida. \\nSi se aprecian nuevas funcionalidades se propondrá al PO dar de alta de nuevos componentes\\n\\nNo se aceptarán los BTSM con solo una línea descriptiva, sin explicar la petición y sin datos concretos sobre el resultado esperado.\\xa0 \\nSe solicitará al peticionario la ampliación de información si esta no es clara.\\n\\nCAMPOS OBLIGATORIOS: Para los bugs, en el campo descripción del BTSM, se deberá incluir obligatoriamente:', metadata={'source': 'documents_planeta/Operativa+N1.docx'}),\n",
       " Document(page_content='CAMPOS OBLIGATORIOS: Para los bugs, en el campo descripción del BTSM, se deberá incluir obligatoriamente:\\n\\n\\xa0\\n\\nPasos a seguir hasta llegar al error. Descripción del error. Añadir pantallazo del problema\\n\\nLo que se esperaba que hiciera la aplicación o proceso\\n\\nOtros datos que puedan ser de interés: usuario al que le ha dado el error, caso concreto del error, oportunidad incorrecta, etc.\\n\\nAdemás, si se admite como bloqueante se deberá dar un método de contacto y estar disponible para la resolución de cualquier duda o aclaración que se presente.\\n\\n\\xa0\\n\\nDiaria\\n\\n\\n\\n\\n\\nC03\\n\\nPrimera respuesta al Peticionario\\n\\nUna vez revisado el contenido del ticket, se pueden dar dos circunstancias:\\n\\nLa resolución del ticket se puede realizar de manera inmediata (dentro de las primeras 4 horas). Se trabajará hasta su resolución informando del final de intervención únicamente.', metadata={'source': 'documents_planeta/Operativa+N1.docx'}),\n",
       " Document(page_content='La resolución del ticket se puede realizar de manera inmediata (dentro de las primeras 4 horas). Se trabajará hasta su resolución informando del final de intervención únicamente.\\n\\nLa resolución del ticket se prevé que se dilate en el tiempo, o es necesaria información adicional, se realizará una anotación en el mismo para confirmar al Peticionario que se ha recibido el ticket se informará sobre el tiempo previsto de resolución en base a los SLA’s dinámicos (Ver mensaje SLA Dinámico).\\n\\nSólo aplica a Bugs\\n\\nContinuado\\n\\n\\n\\n\\n\\nC04\\n\\nRevisión y respuesta a Soportes (Support) en estado Open\\n\\nPriorizar en la revisión aquellas que se han priorizado como Bloqueante para evaluar si son realmente incidencias.\\n\\nContinuado\\n\\n\\n\\n\\n\\nC05\\n\\nAgrupar las peticiones BTSM duplicadas o con causa común identificada. Se identificará una como ”padre” y todas se relacionarán con la misma.\\n\\nLos BTSM ”hijos” se rechazarán con estado REJECTED', metadata={'source': 'documents_planeta/Operativa+N1.docx'}),\n",
       " Document(page_content='C05\\n\\nAgrupar las peticiones BTSM duplicadas o con causa común identificada. Se identificará una como ”padre” y todas se relacionarán con la misma.\\n\\nLos BTSM ”hijos” se rechazarán con estado REJECTED\\n\\nSe informará al peticionario del motivo de la desestimación y se compartirá el Jira en el cual podrá realizar el seguimiento de su petición añadiendo al Peticionario en la lista de \\xa0“Request participants” del Jira “padre”.\\n\\nDiaria\\n\\n\\n\\n\\n\\nC06\\n\\nAsignación de tareas en N1. Se hará nominalmente en base a la carga de trabajo y/o conocimientos de los técnicos, añadiendo un comentario en el ticket.\\nSi se comprueba que se está trabajando en una solución por parte de N2, se asociará al ticket correspondiente.\\n\\nDiaria\\n\\n\\xa0\\n\\n\\n\\nOperativa\\n\\nC07\\n\\nEstado de los tickets\\n\\n\\xa0\\n\\nLas incidencias sobre las que se esté trabajando estarán en estado WORKAROUND.\\n\\nLas incidencias pendientes de tratar deben estar en estado BACKLOG en la cola de cada Técnico.\\n\\n\\xa0\\n\\nDiaria\\n\\n\\n\\n\\n\\nC08\\n\\nEscalar una consulta a N2', metadata={'source': 'documents_planeta/Operativa+N1.docx'}),\n",
       " Document(page_content='Las incidencias pendientes de tratar deben estar en estado BACKLOG en la cola de cada Técnico.\\n\\n\\xa0\\n\\nDiaria\\n\\n\\n\\n\\n\\nC08\\n\\nEscalar una consulta a N2\\n\\nSi se tiene que hacer alguna consulta al equipo de N2, se anotará la consulta a realizar y se dejará el ticket, con todos los datos, en estado RAISED (La propiedad del ticket continúa siendo del Técnico N1). El Proxy Product Owner (PPO) revisará periódicamente estos tickets, creando la documentación necesaria, si procede, respondiendo en el propio ticket y mencionando (@Nombre) al owner del ticket.\\n\\nSi el PPO considera que debe ser tratado por N2 lo indicará en el ticket para que el técnico N1 cree el Jira SW correspondiente. de tipo Bug, que será el que tratará el Equipo de N2. Cambiando también el BTSM a tipo Bug.\\n\\nAsimismo si se estima que se debe ampliar la información con la ayuda del PO, se activará el proceso de Gestión de consultas a Product Owner\\n\\n\\n\\nDiaria\\n\\n\\n\\nC08 Bis\\n\\nEscalar un bug a N2', metadata={'source': 'documents_planeta/Operativa+N1.docx'}),\n",
       " Document(page_content='Asimismo si se estima que se debe ampliar la información con la ayuda del PO, se activará el proceso de Gestión de consultas a Product Owner\\n\\n\\n\\nDiaria\\n\\n\\n\\nC08 Bis\\n\\nEscalar un bug a N2\\n\\nEl ticket inicial (BTSM) deberá quedar en estado DEVELOPMENT, siendo actualizado por el Release Manager/QA cuando corresponda.\\n\\nSe asociará el BTA/BASM/BTED/BTPW con la opción Is Blocked By\\n\\nEn todos los casos hay que informar al Peticionario que es necesario un desarrollo y que se informará vía las Releases de Producto.\\n\\n\\xa0En el caso de tickets relacionados con EdTech se creará un Jira SW en el proyecto BTED (informar el Epic Link BTED-21), el técnico N2 de EdTech actualizará el ticket, recibiendo el Técnico que crea el BTED las actualizaciones para informar al peticionario.', metadata={'source': 'documents_planeta/Operativa+N1.docx'}),\n",
       " Document(page_content='En el caso de tickets relacionados con Performance Web se creará un Jira SW en el proyecto BTPW (informar el Epic BTPW-9 Maintenance Performance Web), el técnico N2 de Performance Web actualizará el ticket, recibiendo el técnico que crea el BTPW las actualizaciones para informar al peticionario.\\n\\n\\n\\n\\n\\n\\n\\nC09\\n\\nCreación de Problemas\\n\\n\\xa0\\n\\nCon el fin de reducir la volumetría de incidencias, se deberán crear problemas cuyo objetivo será determinar la causa raíz de temas que tengan un denominador común con el objetivo de erradicarlo de manera definitiva.\\n\\n\\xa0\\n\\n·\\xa0\\xa0\\xa0\\xa0\\xa0\\xa0\\xa0\\xa0\\xa0 Se creará un BTSM de tipo Problema\\n\\n·\\xa0\\xa0\\xa0\\xa0\\xa0\\xa0\\xa0\\xa0\\xa0 Cada ticket relacionado con el Problema se vinculará con la opción Relates to\\n\\n·\\xa0\\xa0\\xa0\\xa0\\xa0\\xa0\\xa0\\xa0\\xa0 Si debe escalarse su resolución a N2, se creará el BASM/BTA/BTED/BTPW de tipo Bug, correspondiente, vinculándolo con la opción Is Caused by.\\n\\n·\\xa0\\xa0\\xa0\\xa0\\xa0\\xa0\\xa0\\xa0\\xa0 Informar en el Problema del Workaround a aplicar y cerrar los tickets una vez aplicado.\\n\\n\\xa0\\n\\n\\n\\n\\n\\nC10\\n\\nCierre administrativo', metadata={'source': 'documents_planeta/Operativa+N1.docx'}),\n",
       " Document(page_content='·\\xa0\\xa0\\xa0\\xa0\\xa0\\xa0\\xa0\\xa0\\xa0 Informar en el Problema del Workaround a aplicar y cerrar los tickets una vez aplicado.\\n\\n\\xa0\\n\\n\\n\\n\\n\\nC10\\n\\nCierre administrativo\\n\\n\\xa0\\n\\n·\\xa0\\xa0\\xa0\\xa0\\xa0\\xa0\\xa0\\xa0\\xa0 Estado UAT\\n\\nLos BTSM resueltos que no necesitan despliegue y que llevan más de 4 días laborables se cerrarán en el 5 día por falta de feedback. Previamente se habrá Informado al peticionario.\\n\\n\\xa0\\n\\nEn los BTSM relativos a cambios de contraseña, desbloqueo de usuarios y otras casuísticas que sean susceptibles de ser comprobadas de manera más inmediata, el plazo de cierre será de 2 días laborables, cerrándose el segundo día sin confirmación.\\n\\n\\xa0\\n\\n·\\xa0\\xa0\\xa0\\xa0\\xa0\\xa0\\xa0\\xa0\\xa0 Estado PENDING INFO\\n\\nLos BTSM que vienen con falta de explicaciones, o datos en el momento de su apertura, si en 3 días laborables no hay respuesta se cerrará la petición al cuarto día, avisando previamente al peticionario e informando del motivo de cierre', metadata={'source': 'documents_planeta/Operativa+N1.docx'}),\n",
       " Document(page_content='Los BTSM con más de 4 días laborables sin respuesta de negocio se cerrarán por falta de feedback al quinto día. Previamente se habrá Informado al peticionario.\\n\\n\\xa0\\n\\nSe deberá tener en cuenta los periodos de vacaciones de Semana Santa, Navidad y Agosto donde estos periodos no aplican por no ser días lectivos.\\n\\nDiaria\\n\\n\\n\\n\\n\\nC11\\n\\nDocumentar el ticket\\n\\n\\xa0\\n\\nSe debe informar cualquier contacto/reunión/llamada, etc. Que se haya mantenido con el peticionario, para que conste todo el histórico de las acciones realizadas.\\n\\nSe debe informar la resolución en el campo comentario en base a los formatos estándares definidos.\\n\\nDiaria\\n\\n\\n\\n\\n\\nC12\\n\\nSeguimiento de tickets\\n\\n\\xa0\\n\\nLas incidencias deben ser revisadas de manera regular para mantenerlas actualizadas en todo momento\\n\\nEn los tickets en estado UAT y PENDING INFO, se debe comunicar con el usuario cada dos días hasta la fecha de vencimiento\\n\\nMínimo 2 veces al día (a primera hora de la mañana y primera hora de la tarde)\\n\\n\\n\\n\\n\\nC13', metadata={'source': 'documents_planeta/Operativa+N1.docx'}),\n",
       " Document(page_content='Mínimo 2 veces al día (a primera hora de la mañana y primera hora de la tarde)\\n\\n\\n\\n\\n\\nC13\\n\\nSeguimiento de tickets escalados a N2\\n\\n\\xa0\\n\\nLos tickets escalados a N2, que tienen un BASM/BTA/BTED/BTPW asociado sobre el que trabaja el Equipo de N2, deben ser revisados y actualizados periódicamente, anotando los avances que se hayan podido producir. Ello permitirá dar visibilidad a los peticionarios del punto en el que está su solicitud.\\n\\nSemanalmente\\n\\n\\n\\nComunicaciones\\n\\nC14\\n\\nMedios de contacto\\n\\n\\xa0\\n\\nLas incidencias llegarán mediante Jira, siendo este soporte el medio de comunicación con toda la organización, sobre el caso tratado.\\n\\n\\xa0\\n\\nExcepcionalmente y a criterio del Técnico, para agilizar la resolución, se podrán utilizar otros medios de contacto, quedando fielmente reflejado tal como se indica en el punto Operativa à Documentar el Ticket.\\n\\n\\xa0\\n\\nLos comentarios se añadirán al ticket personalizando el usuario con @Usuario para que reciba un correo\\n\\n\\xa0\\n\\n\\xa0\\n\\n\\n\\n\\n\\nC15', metadata={'source': 'documents_planeta/Operativa+N1.docx'}),\n",
       " Document(page_content='Los comentarios se añadirán al ticket personalizando el usuario con @Usuario para que reciba un correo\\n\\n\\xa0\\n\\n\\xa0\\n\\n\\n\\n\\n\\nC15\\n\\nNo se deben trasladar al peticionario comentarios ajenos al desarrollo de su petición, ajustando los mensajes a lo descrito en el apartado FORMATO PARA LAS RESPUESTAS ESTÁNDARES EN JIRA', metadata={'source': 'documents_planeta/Operativa+N1.docx'}),\n",
       " Document(page_content='WEB DE CAPTACIÓN\\n\\nEl future alumno entra en la web de captación (www.eae.es) desde donde buscara la carrera o master el cual este interesado en cursar. Para localizar la carrera o master en la web deberá rellenar los campos “Full Time”, “Area Formativa”, “Campus”, “Español”.\\n\\n\\n\\nIlustración 2. Web de Captación\\n\\nCuando el alumno pulsa en el botón “Buscar” le aparecerá en la web un listado con todas las carreras y masters disponibles en base a los criterios de búsqueda que ha establecido.\\n\\n\\n\\nIlustración 3. Listado de Carreras, y Masters en base a los criterios de búsqueda\\n\\nEl alumno deberá seleccionar en la carrera o master que esta interesado cursar para así poder avanzar con la admisión. En concreto deberá pulsar en el botón “Mas información” perteneciente al master o carrera.\\n\\n\\n\\nIlustración 4. botón \"Mas información\" asociado a la carrera o master seleccionado', metadata={'source': 'documents_planeta/WEB+DE+CAPTACIÓN.docx'}),\n",
       " Document(page_content='Ilustración 4. botón \"Mas información\" asociado a la carrera o master seleccionado\\n\\nUna vez el alumno haya accedido al programa de la carrera o master podrá observar múltiples secciones donde encontrara toda la información que puede necesitar. Entras las secciones a destacar mencionar “Presentación”, “Programa”, “Experiencia”, “Admisión”, y “Financiación”. En la parte superior derecha podrá un breve resumen donde se le indica al estudiante cuantas plazas quedan disponibles, el formato, la modalidad, la duración, los créditos necesarios para la finalización de la carrera o máster, el idioma en que se imparten las clases, y en el campus se esta dando la carrera o master.\\n\\nPara que el alumno comience con el proceso de matriculación debe pulsar en el botón rojo con el texto “Admisión” que se encuentra en la parte superior izquierda de la pantalla.\\n\\n\\n\\nIlustración 5. Pagina Informativa de la Carrera o master seleccionado', metadata={'source': 'documents_planeta/WEB+DE+CAPTACIÓN.docx'}),\n",
       " Document(page_content='Ilustración 5. Pagina Informativa de la Carrera o master seleccionado\\n\\nUna vez el alumno pulsa en el botón “Admision” aparecerá una nueva pantalla en la cual el alumno debe rellenar todos los datos para al pulsar en el botón “Enviar” se creará un “Contact” y un “Lead” en el modulo de marketing de Atenea con la información que ha rellenado el alumno.\\n\\n\\n\\nIlustración 6. envió información para admisión a la carrera o master seleccionado\\n\\nLa web de captación envía un JSON al módulo de marketing con todos los datos que se le han solicitado al futuro alumno para la creación del “Contact”, el “Lead, ”y la “Opportunity”\\n\\nEjemplo de JSON enviado al módulo de Marketing desde la web de captación:\\n\\n{\\n\\n\"estudio\": {\\n\\n\"nivel\": \"ES-5\",\\n\\n\"datosInteres\": \"string\"\\n\\n},\\n\\n\"key\": {\\n\\n\"id\": \"1666678920\",\\n\\n\"marca\": \"VIU\",\\n\\n\"fechaSolicitud\": \"2022-10-25 06:22:00\",\\n\\n\"proveedor\": \"VIU\",\\n\\n\"tipo\": \"SI\"\\n\\n},\\n\\n\"lead\": {\\n\\n\"nombre\": \"Rosa\",\\n\\n\"primerApellido\": \"Sanchis Gimeno\",\\n\\n\"fechaNacimiento\": \"1964-10-25\",', metadata={'source': 'documents_planeta/WEB+DE+CAPTACIÓN.docx'}),\n",
       " Document(page_content='\"marca\": \"VIU\",\\n\\n\"fechaSolicitud\": \"2022-10-25 06:22:00\",\\n\\n\"proveedor\": \"VIU\",\\n\\n\"tipo\": \"SI\"\\n\\n},\\n\\n\"lead\": {\\n\\n\"nombre\": \"Rosa\",\\n\\n\"primerApellido\": \"Sanchis Gimeno\",\\n\\n\"fechaNacimiento\": \"1964-10-25\",\\n\\n\"telefono1\": \"34607663773\",\\n\\n\"email\": \"rosasanchisg@gmail.com\",\\n\\n\"sexo\": \"1\",\\n\\n\"pais\": \"España\",\\n\\n\"paisISO\": \"ES\",\\n\\n\"provinciaISO\": \"ES-V\",\\n\\n\"provinciaNoNormalizada\": \" Valencia/València\"\\n\\n},\\n\\n\"marketing\": {\\n\\n\"campanya\": \"I90502U0617\",\\n\\n\"origen\": \"3\",\\n\\n\"url\": \"https://www.universidadviu.com/es/master-prevencion-riesgos-laborales-prl \",\\n\\n\"ip\": \"46.24.25.57, 172.70.59.182, 34.120.159.20\"\\n\\n},\\n\\n\"programa\": {\\n\\n\"nombre\": \"86\",\\n\\n\"campus\": \"1\",\\n\\n\"dedicacion\": \"1\",\\n\\n\"tipoDeImparticion\": \"1\",\\n\\n\"horario\": \"1\"\\n\\n},\\n\\n\"rgpd\": {\\n\\n\"rgpd\": true,\\n\\n\"rgpD1\": false,\\n\\n\"rgpD2\": false,\\n\\n\"fecha\": \"20221025 062200\"\\n\\n}\\n\\n}\\n\\n\\xa0\\n\\n\\xa0\\n\\nEl JSON se puede consultar en la pestaña “Integrated Data” del “Lead” en el módulo Marketing de Atenea.\\n\\n\\xa0\\n\\n\\n\\nIlustración 7. JSON enviado desde Web Captación a modulo marketing', metadata={'source': 'documents_planeta/WEB+DE+CAPTACIÓN.docx'})]"
      ]
     },
     "execution_count": 41,
     "metadata": {},
     "output_type": "execute_result"
    }
   ],
   "source": [
    "text_splitter = RecursiveCharacterTextSplitter(chunk_size=1000, chunk_overlap=200)\n",
    "splits = text_splitter.split_documents(documents=data)\n",
    "splits"
   ]
  },
  {
   "cell_type": "markdown",
   "id": "de1bdc29-a737-4130-abb5-6dd798f05331",
   "metadata": {},
   "source": [
    "### Indexing"
   ]
  },
  {
   "cell_type": "code",
   "execution_count": 42,
   "id": "0c576175-c05a-4386-a2ea-c2e55e4586a8",
   "metadata": {},
   "outputs": [],
   "source": [
    "# vectorstore = Chroma.from_documents(documents=splits, embedding=OpenAIEmbeddings())\n",
    "vectorstore = FAISS.from_documents(documents=splits, embedding=OpenAIEmbeddings())"
   ]
  },
  {
   "cell_type": "markdown",
   "id": "8521463c-384a-4dcc-a525-a689b9c7bcb2",
   "metadata": {},
   "source": [
    "### Retrieval and Generation: Retrieve"
   ]
  },
  {
   "cell_type": "code",
   "execution_count": 43,
   "id": "b083ceaa-44a8-48c6-be66-1cde3542adae",
   "metadata": {},
   "outputs": [
    {
     "name": "stdout",
     "output_type": "stream",
     "text": [
      "\n",
      "page_content='Mínimo 2 veces al día (a primera hora de la mañana y primera hora de la tarde)\\n\\n\\n\\n\\n\\nC13\\n\\nSeguimiento de tickets escalados a N2\\n\\n\\xa0\\n\\nLos tickets escalados a N2, que tienen un BASM/BTA/BTED/BTPW asociado sobre el que trabaja el Equipo de N2, deben ser revisados y actualizados periódicamente, anotando los avances que se hayan podido producir. Ello permitirá dar visibilidad a los peticionarios del punto en el que está su solicitud.\\n\\nSemanalmente\\n\\n\\n\\nComunicaciones\\n\\nC14\\n\\nMedios de contacto\\n\\n\\xa0\\n\\nLas incidencias llegarán mediante Jira, siendo este soporte el medio de comunicación con toda la organización, sobre el caso tratado.\\n\\n\\xa0\\n\\nExcepcionalmente y a criterio del Técnico, para agilizar la resolución, se podrán utilizar otros medios de contacto, quedando fielmente reflejado tal como se indica en el punto Operativa à Documentar el Ticket.\\n\\n\\xa0\\n\\nLos comentarios se añadirán al ticket personalizando el usuario con @Usuario para que reciba un correo\\n\\n\\xa0\\n\\n\\xa0\\n\\n\\n\\n\\n\\nC15' metadata={'source': 'documents_planeta/Operativa+N1.docx'}\n",
      "\n",
      "page_content='CAMPOS OBLIGATORIOS: Para los bugs, en el campo descripción del BTSM, se deberá incluir obligatoriamente:\\n\\n\\xa0\\n\\nPasos a seguir hasta llegar al error. Descripción del error. Añadir pantallazo del problema\\n\\nLo que se esperaba que hiciera la aplicación o proceso\\n\\nOtros datos que puedan ser de interés: usuario al que le ha dado el error, caso concreto del error, oportunidad incorrecta, etc.\\n\\nAdemás, si se admite como bloqueante se deberá dar un método de contacto y estar disponible para la resolución de cualquier duda o aclaración que se presente.\\n\\n\\xa0\\n\\nDiaria\\n\\n\\n\\n\\n\\nC03\\n\\nPrimera respuesta al Peticionario\\n\\nUna vez revisado el contenido del ticket, se pueden dar dos circunstancias:\\n\\nLa resolución del ticket se puede realizar de manera inmediata (dentro de las primeras 4 horas). Se trabajará hasta su resolución informando del final de intervención únicamente.' metadata={'source': 'documents_planeta/Operativa+N1.docx'}\n",
      "\n",
      "page_content='Los BTSM con más de 4 días laborables sin respuesta de negocio se cerrarán por falta de feedback al quinto día. Previamente se habrá Informado al peticionario.\\n\\n\\xa0\\n\\nSe deberá tener en cuenta los periodos de vacaciones de Semana Santa, Navidad y Agosto donde estos periodos no aplican por no ser días lectivos.\\n\\nDiaria\\n\\n\\n\\n\\n\\nC11\\n\\nDocumentar el ticket\\n\\n\\xa0\\n\\nSe debe informar cualquier contacto/reunión/llamada, etc. Que se haya mantenido con el peticionario, para que conste todo el histórico de las acciones realizadas.\\n\\nSe debe informar la resolución en el campo comentario en base a los formatos estándares definidos.\\n\\nDiaria\\n\\n\\n\\n\\n\\nC12\\n\\nSeguimiento de tickets\\n\\n\\xa0\\n\\nLas incidencias deben ser revisadas de manera regular para mantenerlas actualizadas en todo momento\\n\\nEn los tickets en estado UAT y PENDING INFO, se debe comunicar con el usuario cada dos días hasta la fecha de vencimiento\\n\\nMínimo 2 veces al día (a primera hora de la mañana y primera hora de la tarde)\\n\\n\\n\\n\\n\\nC13' metadata={'source': 'documents_planeta/Operativa+N1.docx'}\n",
      "\n",
      "page_content='Asimismo si se estima que se debe ampliar la información con la ayuda del PO, se activará el proceso de Gestión de consultas a Product Owner\\n\\n\\n\\nDiaria\\n\\n\\n\\nC08 Bis\\n\\nEscalar un bug a N2\\n\\nEl ticket inicial (BTSM) deberá quedar en estado DEVELOPMENT, siendo actualizado por el Release Manager/QA cuando corresponda.\\n\\nSe asociará el BTA/BASM/BTED/BTPW con la opción Is Blocked By\\n\\nEn todos los casos hay que informar al Peticionario que es necesario un desarrollo y que se informará vía las Releases de Producto.\\n\\n\\xa0En el caso de tickets relacionados con EdTech se creará un Jira SW en el proyecto BTED (informar el Epic Link BTED-21), el técnico N2 de EdTech actualizará el ticket, recibiendo el Técnico que crea el BTED las actualizaciones para informar al peticionario.' metadata={'source': 'documents_planeta/Operativa+N1.docx'}\n"
     ]
    }
   ],
   "source": [
    "# Retrieve and generate using the relevant snippets of the blog.\n",
    "retriever = vectorstore.as_retriever()\n",
    "\n",
    "retrieved_docs = retriever.invoke(\"How can I document the ticket?\")\n",
    "\n",
    "for retrieved_doc in retrieved_docs:\n",
    "    print()\n",
    "    print(retrieved_doc)"
   ]
  },
  {
   "cell_type": "markdown",
   "id": "bcc255ab-a46b-4ed6-a9f6-a120d1f11145",
   "metadata": {},
   "source": [
    "### Retrieval and Generation: Generation"
   ]
  },
  {
   "cell_type": "code",
   "execution_count": 21,
   "id": "d313681d-4b1a-4047-96e2-6ab8b63b3033",
   "metadata": {},
   "outputs": [],
   "source": [
    "# prompt = hub.pull(\"rlm/rag-prompt\")\n",
    "llm = ChatOpenAI(model_name=\"gpt-3.5-turbo\", temperature=0)"
   ]
  },
  {
   "cell_type": "raw",
   "id": "e83dfb3f-9442-48ee-9de9-5f06fb9a2498",
   "metadata": {},
   "source": [
    "SYSTEM_TEMPLATE = \"\"\"You are an assistant for providing new recipes using suggested brand products. \n",
    "Only use the suggested brand products as long as they fit in the requested recipe. \n",
    "When they don't, list the provided similar recipes at the end of the requested recipe, without mentioning the brand products.\"\"\"\n",
    "HUMAN_TEMPLATE = \"Request: {request} \\nBrand Ingredients: {ingredients} \\nSimilar Recipes: {recipes}\\nRecipe:\""
   ]
  },
  {
   "cell_type": "raw",
   "id": "b5ee6e6c-3aea-489d-b745-c71c15feb697",
   "metadata": {},
   "source": [
    "SYSTEM_TEMPLATE = \"\"\"You are an assistant for providing guide and instructions for ticket incidence management. \n",
    "Only use the suggested brand products as long as they fit in the requested recipe. \n",
    "When they don't, list the provided similar recipes at the end of the requested recipe, without mentioning the brand products.\"\"\"\n",
    "HUMAN_TEMPLATE = \"Request: {request} \\nBrand Ingredients: {ingredients} \\nSimilar Recipes: {recipes}\\nRecipe:\""
   ]
  },
  {
   "cell_type": "code",
   "execution_count": 105,
   "id": "1c4aad1f-738b-49ea-a8af-64cc9afbed01",
   "metadata": {},
   "outputs": [],
   "source": [
    "template = \"\"\"You are an assistant for providing guide and instructions for two tasks: tickets incidences management and user manual for a web application.\n",
    "Use the following pieces of context to answer the question at the end.\n",
    "If the question can not be answered using the information of the context, just say that you don't know, don't try to make up an answer.\n",
    "If you don't know the answer, just say that you don't know, don't try to make up an answer.\n",
    "Use three sentences maximum and keep the answer as concise as possible.\n",
    "Always say \"thanks for asking!\" at the end of the answer.\n",
    "\n",
    "Context: {context}\n",
    "\n",
    "Question: {question}\n",
    "\n",
    "Answer in the following language: {language}\n",
    "\n",
    "Helpful Answer:\"\"\"\n",
    "\n",
    "custom_rag_prompt = PromptTemplate.from_template(template)"
   ]
  },
  {
   "cell_type": "raw",
   "id": "104ce583-ac81-4504-bc39-71f951262c6a",
   "metadata": {},
   "source": [
    "prompt = ChatPromptTemplate(input_variables=['ingredients', 'request'], \n",
    "                   messages=[SystemMessagePromptTemplate(prompt=PromptTemplate.from_template(SYSTEM_TEMPLATE)),\n",
    "                             HumanMessagePromptTemplate(prompt=PromptTemplate(input_variables=['ingredients', 'request'], template=HUMAN_TEMPLATE))])"
   ]
  },
  {
   "cell_type": "code",
   "execution_count": 106,
   "id": "a7790848-2989-4813-900e-bbd045cddb6a",
   "metadata": {},
   "outputs": [],
   "source": [
    "from operator import itemgetter\n",
    "\n",
    "def format_docs(docs):\n",
    "    return \"\\n\\n\".join(doc.page_content for doc in docs)\n",
    "\n",
    "\n",
    "# rag_chain = (\n",
    "#     { \"context\": retriever | format_docs,\n",
    "#       \"question\": RunnablePassthrough() ,\n",
    "#       \"language\": itemgetter(\"language\"),\n",
    "#     }\n",
    "#     | custom_rag_prompt\n",
    "#     | llm\n",
    "#     | StrOutputParser()\n",
    "# )\n",
    "rag_chain = (\n",
    "    {\n",
    "        \"context\": itemgetter(\"question\") | retriever,\n",
    "        \"question\": itemgetter(\"question\"),\n",
    "        \"language\": itemgetter(\"language\"),\n",
    "    }\n",
    "    | custom_rag_prompt\n",
    "    | llm\n",
    "    | StrOutputParser()\n",
    ")"
   ]
  },
  {
   "cell_type": "code",
   "execution_count": 70,
   "id": "8456074c-129c-4881-a25c-5cbea6e84885",
   "metadata": {},
   "outputs": [
    {
     "data": {
      "text/plain": [
       "'Se debe informar cualquier contacto/reunión/llamada, etc. que se haya mantenido con el peticionario, para que conste todo el histórico de las acciones realizadas. Además, se debe informar la resolución en el campo comentario en base a los formatos estándares definidos. Gracias por preguntar!'"
      ]
     },
     "execution_count": 70,
     "metadata": {},
     "output_type": "execute_result"
    }
   ],
   "source": [
    "# rag_chain.invoke(\"How can I document the ticket?\")\n",
    "rag_chain.invoke({\"question\": \"How can I document the ticket?\", \"language\": \"spanish\"})"
   ]
  },
  {
   "cell_type": "code",
   "execution_count": 119,
   "id": "4979a67c-1152-4975-9b49-ab3c530f86c8",
   "metadata": {},
   "outputs": [
    {
     "name": "stdout",
     "output_type": "stream",
     "text": [
      "No se sabe de qué color son los plátanos según la información proporcionada. Gracias por preguntar!"
     ]
    }
   ],
   "source": [
    "question = \"How can I document the ticket?\"\n",
    "question = \"Cómo documento un ticket?\"\n",
    "question = \"Qué valor se debe introducir en los campos de la entidad 'Account' cuando el país está normalizado?\"\n",
    "question = \"Which value I should use to fill the fields of the 'Account' entity when the country is normalized?\"\n",
    "# question = \"Cómo puedo borrar un ticket?\"\n",
    "question = \"De qué color son los plátanos?\"\n",
    "\n",
    "for chunk in rag_chain.stream({\"question\": question, \"language\": detect(text=question, low_memory=False)[\"lang\"]}):\n",
    "    print(chunk, end=\"\", flush=True)\n",
    "    sleep(0.05)"
   ]
  },
  {
   "cell_type": "code",
   "execution_count": 118,
   "id": "69cb52be-b6e0-4254-a5c8-f80335ad8393",
   "metadata": {},
   "outputs": [
    {
     "name": "stdout",
     "output_type": "stream",
     "text": [
      "\n",
      "------------------------------------------\n",
      "Fragmento de documento: 0\n",
      "Si el país no está normalizado. Los campos “Country”, “State Text”, “City Text” de la entidad “Account” heredan de los campos “Country”, “State Text”, y “City Text” de la entidad “Lead”.\n",
      "\n",
      "\n",
      "\n",
      "Ilustración 4. Campos \"Country\", \"State\", \"State Text\", \"City\", y \"City Text\" en la seccion \"Account Address\" en la pestaña \"General\".\n",
      "\n",
      "El gestor podrá modificar los valores de los campos “Country”, “State”, “State Text”, “City”, y “City Text” teniendo en cuanta las siguientes consideraciones:\n",
      "\n",
      "Si el campo “Country” es un país normalizado:\n",
      "\n",
      "Si el valor del campo “Normalizado” en la entidad “Country” es igual a “Yes”, los campos “State”, y “City” serán visibles y obligatorios; mientras que los campos “State Text”, y “City Text” serán visibles, pero aparecerán bloqueados.\n",
      "\n",
      "El campo “State Text” recibirá el valor que tenga el campo “Text”.\n",
      "\n",
      "El campo “City Text” recibirá el valor que tenga el campo “City”.\n",
      "\n",
      "------------------------------------------\n",
      "Fragmento de documento: 1\n",
      "ACCOUNT\n",
      "\n",
      "En la entidad “Account” en la pestaña “Summary” en la sección “Account Address” aparecerán cinco campos importantes. Los campos son:\n",
      "\n",
      "Country, que es de tipo lookup\n",
      "\n",
      "State, que es de tipo lookup\n",
      "\n",
      "State Text, que es de tipo text.\n",
      "\n",
      "City, que es de tipo lookup.\n",
      "\n",
      "City Text, que es de tipo text.\n",
      "\n",
      "Dependiendo de si el país esta normalizado o no la entidad “Account” recibirá unos valores u otros de la entidad “Lead”. En concreto será:\n",
      "\n",
      "Si el país esta normalizado. Los campos “Country”, “State”, “City” de la entidad “Account” heredan de los campos “Country”, “State”, y “City” de la entidad “Lead”. El campo “State Text” tendrá el mismo valor que el campo “State”, y el campo “City Text” tendrán el mismo valor que el campo “City”.\n",
      "\n",
      "Si el país no está normalizado. Los campos “Country”, “State Text”, “City Text” de la entidad “Account” heredan de los campos “Country”, “State Text”, y “City Text” de la entidad “Lead”.\n",
      "\n",
      "------------------------------------------\n",
      "Fragmento de documento: 2\n",
      "El usuario podrá introducir cualquier valor de manera manual en el campo “State Text”.\n",
      "\n",
      "El usuario no podrá introducir ningún valor en el campo “City” ya que será no visible.\n",
      "\n",
      "El usuario podrá introducir cualquier valor de manera manual en el campo “City Text”.\n",
      "\n",
      "En la entidad “Account” en la pestaña “Summary” en la sección “Account Billing Address” aparecerán cinco campos importantes. Los campos son:\n",
      "\n",
      "Billing Address Country, que es de tipo lookup\n",
      "\n",
      "Billing Address State, que es de tipo lookup\n",
      "\n",
      "Billing Address State Text, que es de tipo text.\n",
      "\n",
      "Billing Address City, que es de tipo lookup.\n",
      "\n",
      "Billing Address City Text, que es de tipo text.\n",
      "\n",
      "Dependiendo de si el país esta normalizado o no la entidad “Account” recibirá unos valores u otros de la entidad “Lead”. En concreto será:\n",
      "\n",
      "------------------------------------------\n",
      "Fragmento de documento: 3\n",
      "Si el campo “Country” no es un país normalizado:\n",
      "\n",
      "Si el valor del campo “Normalizado” en la entidad “Billing Address Country” es igual a “No”, los campos “Billing Address State”, y “Billing Address City” serán ocultos, no obligatorios, y vacios; mientras que los campos “Billing Address State Text”, y “Billing Address City Text” serán visibles y editables.\n",
      "\n",
      "El usuario no podrá introducir ningún valor en el campo “Billing Address State” ya que será no visible.\n",
      "\n",
      "El usuario podrá introducir cualquier valor de manera manual en el campo “Billing Address State Text”.\n",
      "\n",
      "El usuario no podrá introducir ningún valor en el campo “Billing Address City” ya que será no visible.\n",
      "\n",
      "El usuario podrá introducir cualquier valor de manera manual en el campo “Billing Address City Text”.\n"
     ]
    }
   ],
   "source": [
    "retrieved_docs = retriever.invoke(question)\n",
    "\n",
    "for index, retrieved_doc in enumerate(retrieved_docs):\n",
    "    print(\"\\r\\n------------------------------------------\")\n",
    "    print(f\"Fragmento de documento: {index}\")\n",
    "    print(retrieved_doc.page_content)    "
   ]
  }
 ],
 "metadata": {
  "kernelspec": {
   "display_name": "Python 3 (ipykernel)",
   "language": "python",
   "name": "python3"
  },
  "language_info": {
   "codemirror_mode": {
    "name": "ipython",
    "version": 3
   },
   "file_extension": ".py",
   "mimetype": "text/x-python",
   "name": "python",
   "nbconvert_exporter": "python",
   "pygments_lexer": "ipython3",
   "version": "3.11.6"
  }
 },
 "nbformat": 4,
 "nbformat_minor": 5
}
