{
 "cells": [
  {
   "cell_type": "markdown",
   "id": "ec51f656",
   "metadata": {
    "id": "ec51f656"
   },
   "source": [
    "# Azure OpenAI"
   ]
  },
  {
   "cell_type": "markdown",
   "id": "ef3d26db",
   "metadata": {
    "id": "ef3d26db"
   },
   "source": [
    "Los recursos de Azure OpenAI difieren de los recursos de OpenAI estándar, ya que no se pueden generar incrustaciones a menos que se use un modelo de incrustación. Las regiones donde están disponibles estos modelos se pueden encontrar aquí: https://learn.microsoft.com/en-us/azure/cognitive-services/openai/concepts/models#embeddings-models\n",
    "\n",
    "Además, las regiones que admiten modelos de incrustación lamentablemente no admiten las últimas versiones (<*>-003) de los modelos de OpenAI, por lo que nos vemos obligados a usar una región para incrustaciones y otra para la generación de texto."
   ]
  },
  {
   "cell_type": "markdown",
   "id": "710d6708",
   "metadata": {
    "id": "710d6708"
   },
   "source": [
    "Necesitarás instalar LlamaIndex 🦙."
   ]
  },
  {
   "cell_type": "code",
   "execution_count": 1,
   "id": "94613811",
   "metadata": {
    "id": "94613811",
    "scrolled": true
   },
   "outputs": [
    {
     "name": "stdout",
     "output_type": "stream",
     "text": [
      "Defaulting to user installation because normal site-packages is not writeable\n",
      "Requirement already satisfied: llama-index-embeddings-azure-openai in /Users/kevinsuin/Library/Python/3.9/lib/python/site-packages (0.2.5)\n",
      "Requirement already satisfied: llama-index-core<0.12.0,>=0.11.0 in /Users/kevinsuin/Library/Python/3.9/lib/python/site-packages (from llama-index-embeddings-azure-openai) (0.11.21)\n",
      "Requirement already satisfied: llama-index-llms-azure-openai<0.3.0,>=0.2.0 in /Users/kevinsuin/Library/Python/3.9/lib/python/site-packages (from llama-index-embeddings-azure-openai) (0.2.2)\n",
      "Requirement already satisfied: llama-index-embeddings-openai<0.3.0,>=0.2.3 in /Users/kevinsuin/Library/Python/3.9/lib/python/site-packages (from llama-index-embeddings-azure-openai) (0.2.5)\n",
      "Requirement already satisfied: SQLAlchemy[asyncio]>=1.4.49 in /Users/kevinsuin/Library/Python/3.9/lib/python/site-packages (from llama-index-core<0.12.0,>=0.11.0->llama-index-embeddings-azure-openai) (2.0.36)\n",
      "Requirement already satisfied: aiohttp<4.0.0,>=3.8.6 in /Users/kevinsuin/Library/Python/3.9/lib/python/site-packages (from llama-index-core<0.12.0,>=0.11.0->llama-index-embeddings-azure-openai) (3.10.10)\n",
      "Requirement already satisfied: networkx>=3.0 in /Users/kevinsuin/Library/Python/3.9/lib/python/site-packages (from llama-index-core<0.12.0,>=0.11.0->llama-index-embeddings-azure-openai) (3.2.1)\n",
      "Requirement already satisfied: PyYAML>=6.0.1 in /Users/kevinsuin/Library/Python/3.9/lib/python/site-packages (from llama-index-core<0.12.0,>=0.11.0->llama-index-embeddings-azure-openai) (6.0.2)\n",
      "Requirement already satisfied: tiktoken>=0.3.3 in /Users/kevinsuin/Library/Python/3.9/lib/python/site-packages (from llama-index-core<0.12.0,>=0.11.0->llama-index-embeddings-azure-openai) (0.8.0)\n",
      "Requirement already satisfied: requests>=2.31.0 in /Users/kevinsuin/Library/Python/3.9/lib/python/site-packages (from llama-index-core<0.12.0,>=0.11.0->llama-index-embeddings-azure-openai) (2.32.3)\n",
      "Requirement already satisfied: dataclasses-json in /Users/kevinsuin/Library/Python/3.9/lib/python/site-packages (from llama-index-core<0.12.0,>=0.11.0->llama-index-embeddings-azure-openai) (0.6.7)\n",
      "Requirement already satisfied: numpy<2.0.0 in /Users/kevinsuin/Library/Python/3.9/lib/python/site-packages (from llama-index-core<0.12.0,>=0.11.0->llama-index-embeddings-azure-openai) (1.26.4)\n",
      "Requirement already satisfied: pydantic<3.0.0,>=2.7.0 in /Users/kevinsuin/Library/Python/3.9/lib/python/site-packages (from llama-index-core<0.12.0,>=0.11.0->llama-index-embeddings-azure-openai) (2.9.2)\n",
      "Requirement already satisfied: typing-inspect>=0.8.0 in /Users/kevinsuin/Library/Python/3.9/lib/python/site-packages (from llama-index-core<0.12.0,>=0.11.0->llama-index-embeddings-azure-openai) (0.9.0)\n",
      "Requirement already satisfied: fsspec>=2023.5.0 in /Users/kevinsuin/Library/Python/3.9/lib/python/site-packages (from llama-index-core<0.12.0,>=0.11.0->llama-index-embeddings-azure-openai) (2024.10.0)\n",
      "Requirement already satisfied: wrapt in /Users/kevinsuin/Library/Python/3.9/lib/python/site-packages (from llama-index-core<0.12.0,>=0.11.0->llama-index-embeddings-azure-openai) (1.16.0)\n",
      "Requirement already satisfied: tqdm<5.0.0,>=4.66.1 in /Users/kevinsuin/Library/Python/3.9/lib/python/site-packages (from llama-index-core<0.12.0,>=0.11.0->llama-index-embeddings-azure-openai) (4.66.6)\n",
      "Requirement already satisfied: deprecated>=1.2.9.3 in /Users/kevinsuin/Library/Python/3.9/lib/python/site-packages (from llama-index-core<0.12.0,>=0.11.0->llama-index-embeddings-azure-openai) (1.2.14)\n",
      "Requirement already satisfied: httpx in /Users/kevinsuin/Library/Python/3.9/lib/python/site-packages (from llama-index-core<0.12.0,>=0.11.0->llama-index-embeddings-azure-openai) (0.27.2)\n",
      "Requirement already satisfied: dirtyjson<2.0.0,>=1.0.8 in /Users/kevinsuin/Library/Python/3.9/lib/python/site-packages (from llama-index-core<0.12.0,>=0.11.0->llama-index-embeddings-azure-openai) (1.0.8)\n",
      "Requirement already satisfied: nest-asyncio<2.0.0,>=1.5.8 in /Users/kevinsuin/Library/Python/3.9/lib/python/site-packages (from llama-index-core<0.12.0,>=0.11.0->llama-index-embeddings-azure-openai) (1.5.8)\n",
      "Requirement already satisfied: typing-extensions>=4.5.0 in /Users/kevinsuin/Library/Python/3.9/lib/python/site-packages (from llama-index-core<0.12.0,>=0.11.0->llama-index-embeddings-azure-openai) (4.12.2)\n",
      "Requirement already satisfied: tenacity!=8.4.0,<9.0.0,>=8.2.0 in /Users/kevinsuin/Library/Python/3.9/lib/python/site-packages (from llama-index-core<0.12.0,>=0.11.0->llama-index-embeddings-azure-openai) (8.5.0)\n",
      "Requirement already satisfied: nltk>3.8.1 in /Users/kevinsuin/Library/Python/3.9/lib/python/site-packages (from llama-index-core<0.12.0,>=0.11.0->llama-index-embeddings-azure-openai) (3.9.1)\n",
      "Requirement already satisfied: pillow>=9.0.0 in /Users/kevinsuin/Library/Python/3.9/lib/python/site-packages (from llama-index-core<0.12.0,>=0.11.0->llama-index-embeddings-azure-openai) (11.0.0)\n",
      "Requirement already satisfied: attrs>=17.3.0 in /Users/kevinsuin/Library/Python/3.9/lib/python/site-packages (from aiohttp<4.0.0,>=3.8.6->llama-index-core<0.12.0,>=0.11.0->llama-index-embeddings-azure-openai) (24.2.0)\n",
      "Requirement already satisfied: frozenlist>=1.1.1 in /Users/kevinsuin/Library/Python/3.9/lib/python/site-packages (from aiohttp<4.0.0,>=3.8.6->llama-index-core<0.12.0,>=0.11.0->llama-index-embeddings-azure-openai) (1.5.0)\n",
      "Requirement already satisfied: multidict<7.0,>=4.5 in /Users/kevinsuin/Library/Python/3.9/lib/python/site-packages (from aiohttp<4.0.0,>=3.8.6->llama-index-core<0.12.0,>=0.11.0->llama-index-embeddings-azure-openai) (6.1.0)\n",
      "Requirement already satisfied: yarl<2.0,>=1.12.0 in /Users/kevinsuin/Library/Python/3.9/lib/python/site-packages (from aiohttp<4.0.0,>=3.8.6->llama-index-core<0.12.0,>=0.11.0->llama-index-embeddings-azure-openai) (1.17.1)\n",
      "Requirement already satisfied: aiosignal>=1.1.2 in /Users/kevinsuin/Library/Python/3.9/lib/python/site-packages (from aiohttp<4.0.0,>=3.8.6->llama-index-core<0.12.0,>=0.11.0->llama-index-embeddings-azure-openai) (1.3.1)\n",
      "Requirement already satisfied: aiohappyeyeballs>=2.3.0 in /Users/kevinsuin/Library/Python/3.9/lib/python/site-packages (from aiohttp<4.0.0,>=3.8.6->llama-index-core<0.12.0,>=0.11.0->llama-index-embeddings-azure-openai) (2.4.3)\n",
      "Requirement already satisfied: async-timeout<5.0,>=4.0 in /Users/kevinsuin/Library/Python/3.9/lib/python/site-packages (from aiohttp<4.0.0,>=3.8.6->llama-index-core<0.12.0,>=0.11.0->llama-index-embeddings-azure-openai) (4.0.3)\n",
      "Requirement already satisfied: openai>=1.1.0 in /Users/kevinsuin/Library/Python/3.9/lib/python/site-packages (from llama-index-embeddings-openai<0.3.0,>=0.2.3->llama-index-embeddings-azure-openai) (1.53.0)\n",
      "Requirement already satisfied: llama-index-llms-openai<0.3.0,>=0.2.1 in /Users/kevinsuin/Library/Python/3.9/lib/python/site-packages (from llama-index-llms-azure-openai<0.3.0,>=0.2.0->llama-index-embeddings-azure-openai) (0.2.16)\n",
      "Requirement already satisfied: azure-identity<2.0.0,>=1.15.0 in /Users/kevinsuin/Library/Python/3.9/lib/python/site-packages (from llama-index-llms-azure-openai<0.3.0,>=0.2.0->llama-index-embeddings-azure-openai) (1.19.0)\n",
      "Requirement already satisfied: msal-extensions>=1.2.0 in /Users/kevinsuin/Library/Python/3.9/lib/python/site-packages (from azure-identity<2.0.0,>=1.15.0->llama-index-llms-azure-openai<0.3.0,>=0.2.0->llama-index-embeddings-azure-openai) (1.2.0)\n",
      "Requirement already satisfied: msal>=1.30.0 in /Users/kevinsuin/Library/Python/3.9/lib/python/site-packages (from azure-identity<2.0.0,>=1.15.0->llama-index-llms-azure-openai<0.3.0,>=0.2.0->llama-index-embeddings-azure-openai) (1.31.0)\n",
      "Requirement already satisfied: azure-core>=1.31.0 in /Users/kevinsuin/Library/Python/3.9/lib/python/site-packages (from azure-identity<2.0.0,>=1.15.0->llama-index-llms-azure-openai<0.3.0,>=0.2.0->llama-index-embeddings-azure-openai) (1.32.0)\n",
      "Requirement already satisfied: cryptography>=2.5 in /Users/kevinsuin/Library/Python/3.9/lib/python/site-packages (from azure-identity<2.0.0,>=1.15.0->llama-index-llms-azure-openai<0.3.0,>=0.2.0->llama-index-embeddings-azure-openai) (43.0.3)\n",
      "Requirement already satisfied: six>=1.11.0 in /Library/Developer/CommandLineTools/Library/Frameworks/Python3.framework/Versions/3.9/lib/python3.9/site-packages (from azure-core>=1.31.0->azure-identity<2.0.0,>=1.15.0->llama-index-llms-azure-openai<0.3.0,>=0.2.0->llama-index-embeddings-azure-openai) (1.15.0)\n",
      "Requirement already satisfied: cffi>=1.12 in /Users/kevinsuin/Library/Python/3.9/lib/python/site-packages (from cryptography>=2.5->azure-identity<2.0.0,>=1.15.0->llama-index-llms-azure-openai<0.3.0,>=0.2.0->llama-index-embeddings-azure-openai) (1.17.1)\n",
      "Requirement already satisfied: pycparser in /Users/kevinsuin/Library/Python/3.9/lib/python/site-packages (from cffi>=1.12->cryptography>=2.5->azure-identity<2.0.0,>=1.15.0->llama-index-llms-azure-openai<0.3.0,>=0.2.0->llama-index-embeddings-azure-openai) (2.22)\n",
      "Requirement already satisfied: PyJWT[crypto]<3,>=1.0.0 in /Users/kevinsuin/Library/Python/3.9/lib/python/site-packages (from msal>=1.30.0->azure-identity<2.0.0,>=1.15.0->llama-index-llms-azure-openai<0.3.0,>=0.2.0->llama-index-embeddings-azure-openai) (2.9.0)\n",
      "Requirement already satisfied: portalocker<3,>=1.4 in /Users/kevinsuin/Library/Python/3.9/lib/python/site-packages (from msal-extensions>=1.2.0->azure-identity<2.0.0,>=1.15.0->llama-index-llms-azure-openai<0.3.0,>=0.2.0->llama-index-embeddings-azure-openai) (2.10.1)\n",
      "Requirement already satisfied: regex>=2021.8.3 in /Users/kevinsuin/Library/Python/3.9/lib/python/site-packages (from nltk>3.8.1->llama-index-core<0.12.0,>=0.11.0->llama-index-embeddings-azure-openai) (2024.9.11)\n",
      "Requirement already satisfied: click in /Users/kevinsuin/Library/Python/3.9/lib/python/site-packages (from nltk>3.8.1->llama-index-core<0.12.0,>=0.11.0->llama-index-embeddings-azure-openai) (8.1.7)\n",
      "Requirement already satisfied: joblib in /Users/kevinsuin/Library/Python/3.9/lib/python/site-packages (from nltk>3.8.1->llama-index-core<0.12.0,>=0.11.0->llama-index-embeddings-azure-openai) (1.4.2)\n",
      "Requirement already satisfied: jiter<1,>=0.4.0 in /Users/kevinsuin/Library/Python/3.9/lib/python/site-packages (from openai>=1.1.0->llama-index-embeddings-openai<0.3.0,>=0.2.3->llama-index-embeddings-azure-openai) (0.7.0)\n",
      "Requirement already satisfied: sniffio in /Users/kevinsuin/Library/Python/3.9/lib/python/site-packages (from openai>=1.1.0->llama-index-embeddings-openai<0.3.0,>=0.2.3->llama-index-embeddings-azure-openai) (1.3.1)\n",
      "Requirement already satisfied: anyio<5,>=3.5.0 in /Users/kevinsuin/Library/Python/3.9/lib/python/site-packages (from openai>=1.1.0->llama-index-embeddings-openai<0.3.0,>=0.2.3->llama-index-embeddings-azure-openai) (4.6.2.post1)\n",
      "Requirement already satisfied: distro<2,>=1.7.0 in /Users/kevinsuin/Library/Python/3.9/lib/python/site-packages (from openai>=1.1.0->llama-index-embeddings-openai<0.3.0,>=0.2.3->llama-index-embeddings-azure-openai) (1.9.0)\n",
      "Requirement already satisfied: exceptiongroup>=1.0.2 in /Users/kevinsuin/Library/Python/3.9/lib/python/site-packages (from anyio<5,>=3.5.0->openai>=1.1.0->llama-index-embeddings-openai<0.3.0,>=0.2.3->llama-index-embeddings-azure-openai) (1.2.0)\n",
      "Requirement already satisfied: idna>=2.8 in /Users/kevinsuin/Library/Python/3.9/lib/python/site-packages (from anyio<5,>=3.5.0->openai>=1.1.0->llama-index-embeddings-openai<0.3.0,>=0.2.3->llama-index-embeddings-azure-openai) (3.10)\n",
      "Requirement already satisfied: httpcore==1.* in /Users/kevinsuin/Library/Python/3.9/lib/python/site-packages (from httpx->llama-index-core<0.12.0,>=0.11.0->llama-index-embeddings-azure-openai) (1.0.6)\n",
      "Requirement already satisfied: certifi in /Users/kevinsuin/Library/Python/3.9/lib/python/site-packages (from httpx->llama-index-core<0.12.0,>=0.11.0->llama-index-embeddings-azure-openai) (2024.8.30)\n",
      "Requirement already satisfied: h11<0.15,>=0.13 in /Users/kevinsuin/Library/Python/3.9/lib/python/site-packages (from httpcore==1.*->httpx->llama-index-core<0.12.0,>=0.11.0->llama-index-embeddings-azure-openai) (0.14.0)\n",
      "Requirement already satisfied: pydantic-core==2.23.4 in /Users/kevinsuin/Library/Python/3.9/lib/python/site-packages (from pydantic<3.0.0,>=2.7.0->llama-index-core<0.12.0,>=0.11.0->llama-index-embeddings-azure-openai) (2.23.4)\n",
      "Requirement already satisfied: annotated-types>=0.6.0 in /Users/kevinsuin/Library/Python/3.9/lib/python/site-packages (from pydantic<3.0.0,>=2.7.0->llama-index-core<0.12.0,>=0.11.0->llama-index-embeddings-azure-openai) (0.7.0)\n",
      "Requirement already satisfied: urllib3<3,>=1.21.1 in /Users/kevinsuin/Library/Python/3.9/lib/python/site-packages (from requests>=2.31.0->llama-index-core<0.12.0,>=0.11.0->llama-index-embeddings-azure-openai) (2.2.3)\n",
      "Requirement already satisfied: charset-normalizer<4,>=2 in /Users/kevinsuin/Library/Python/3.9/lib/python/site-packages (from requests>=2.31.0->llama-index-core<0.12.0,>=0.11.0->llama-index-embeddings-azure-openai) (3.4.0)\n",
      "Requirement already satisfied: greenlet!=0.4.17 in /Users/kevinsuin/Library/Python/3.9/lib/python/site-packages (from SQLAlchemy[asyncio]>=1.4.49->llama-index-core<0.12.0,>=0.11.0->llama-index-embeddings-azure-openai) (3.1.1)\n",
      "Requirement already satisfied: mypy-extensions>=0.3.0 in /Users/kevinsuin/Library/Python/3.9/lib/python/site-packages (from typing-inspect>=0.8.0->llama-index-core<0.12.0,>=0.11.0->llama-index-embeddings-azure-openai) (1.0.0)\n",
      "Requirement already satisfied: propcache>=0.2.0 in /Users/kevinsuin/Library/Python/3.9/lib/python/site-packages (from yarl<2.0,>=1.12.0->aiohttp<4.0.0,>=3.8.6->llama-index-core<0.12.0,>=0.11.0->llama-index-embeddings-azure-openai) (0.2.0)\n",
      "Requirement already satisfied: marshmallow<4.0.0,>=3.18.0 in /Users/kevinsuin/Library/Python/3.9/lib/python/site-packages (from dataclasses-json->llama-index-core<0.12.0,>=0.11.0->llama-index-embeddings-azure-openai) (3.23.1)\n",
      "Requirement already satisfied: packaging>=17.0 in /Users/kevinsuin/Library/Python/3.9/lib/python/site-packages (from marshmallow<4.0.0,>=3.18.0->dataclasses-json->llama-index-core<0.12.0,>=0.11.0->llama-index-embeddings-azure-openai) (23.2)\n",
      "\u001b[33mWARNING: You are using pip version 21.2.4; however, version 24.3.1 is available.\n",
      "You should consider upgrading via the '/Library/Developer/CommandLineTools/usr/bin/python3 -m pip install --upgrade pip' command.\u001b[0m\n",
      "Note: you may need to restart the kernel to use updated packages.\n",
      "Defaulting to user installation because normal site-packages is not writeable\n",
      "Requirement already satisfied: llama-index-llms-azure-openai in /Users/kevinsuin/Library/Python/3.9/lib/python/site-packages (0.2.2)\n",
      "Requirement already satisfied: llama-index-llms-openai<0.3.0,>=0.2.1 in /Users/kevinsuin/Library/Python/3.9/lib/python/site-packages (from llama-index-llms-azure-openai) (0.2.16)\n",
      "Requirement already satisfied: llama-index-core<0.12.0,>=0.11.0 in /Users/kevinsuin/Library/Python/3.9/lib/python/site-packages (from llama-index-llms-azure-openai) (0.11.21)\n",
      "Requirement already satisfied: httpx in /Users/kevinsuin/Library/Python/3.9/lib/python/site-packages (from llama-index-llms-azure-openai) (0.27.2)\n",
      "Requirement already satisfied: azure-identity<2.0.0,>=1.15.0 in /Users/kevinsuin/Library/Python/3.9/lib/python/site-packages (from llama-index-llms-azure-openai) (1.19.0)\n",
      "Requirement already satisfied: azure-core>=1.31.0 in /Users/kevinsuin/Library/Python/3.9/lib/python/site-packages (from azure-identity<2.0.0,>=1.15.0->llama-index-llms-azure-openai) (1.32.0)\n",
      "Requirement already satisfied: msal-extensions>=1.2.0 in /Users/kevinsuin/Library/Python/3.9/lib/python/site-packages (from azure-identity<2.0.0,>=1.15.0->llama-index-llms-azure-openai) (1.2.0)\n",
      "Requirement already satisfied: cryptography>=2.5 in /Users/kevinsuin/Library/Python/3.9/lib/python/site-packages (from azure-identity<2.0.0,>=1.15.0->llama-index-llms-azure-openai) (43.0.3)\n",
      "Requirement already satisfied: typing-extensions>=4.0.0 in /Users/kevinsuin/Library/Python/3.9/lib/python/site-packages (from azure-identity<2.0.0,>=1.15.0->llama-index-llms-azure-openai) (4.12.2)\n",
      "Requirement already satisfied: msal>=1.30.0 in /Users/kevinsuin/Library/Python/3.9/lib/python/site-packages (from azure-identity<2.0.0,>=1.15.0->llama-index-llms-azure-openai) (1.31.0)\n",
      "Requirement already satisfied: six>=1.11.0 in /Library/Developer/CommandLineTools/Library/Frameworks/Python3.framework/Versions/3.9/lib/python3.9/site-packages (from azure-core>=1.31.0->azure-identity<2.0.0,>=1.15.0->llama-index-llms-azure-openai) (1.15.0)\n",
      "Requirement already satisfied: requests>=2.21.0 in /Users/kevinsuin/Library/Python/3.9/lib/python/site-packages (from azure-core>=1.31.0->azure-identity<2.0.0,>=1.15.0->llama-index-llms-azure-openai) (2.32.3)\n",
      "Requirement already satisfied: cffi>=1.12 in /Users/kevinsuin/Library/Python/3.9/lib/python/site-packages (from cryptography>=2.5->azure-identity<2.0.0,>=1.15.0->llama-index-llms-azure-openai) (1.17.1)\n",
      "Requirement already satisfied: pycparser in /Users/kevinsuin/Library/Python/3.9/lib/python/site-packages (from cffi>=1.12->cryptography>=2.5->azure-identity<2.0.0,>=1.15.0->llama-index-llms-azure-openai) (2.22)\n",
      "Requirement already satisfied: PyYAML>=6.0.1 in /Users/kevinsuin/Library/Python/3.9/lib/python/site-packages (from llama-index-core<0.12.0,>=0.11.0->llama-index-llms-azure-openai) (6.0.2)\n",
      "Requirement already satisfied: fsspec>=2023.5.0 in /Users/kevinsuin/Library/Python/3.9/lib/python/site-packages (from llama-index-core<0.12.0,>=0.11.0->llama-index-llms-azure-openai) (2024.10.0)\n",
      "Requirement already satisfied: pillow>=9.0.0 in /Users/kevinsuin/Library/Python/3.9/lib/python/site-packages (from llama-index-core<0.12.0,>=0.11.0->llama-index-llms-azure-openai) (11.0.0)\n",
      "Requirement already satisfied: networkx>=3.0 in /Users/kevinsuin/Library/Python/3.9/lib/python/site-packages (from llama-index-core<0.12.0,>=0.11.0->llama-index-llms-azure-openai) (3.2.1)\n",
      "Requirement already satisfied: dataclasses-json in /Users/kevinsuin/Library/Python/3.9/lib/python/site-packages (from llama-index-core<0.12.0,>=0.11.0->llama-index-llms-azure-openai) (0.6.7)\n",
      "Requirement already satisfied: tqdm<5.0.0,>=4.66.1 in /Users/kevinsuin/Library/Python/3.9/lib/python/site-packages (from llama-index-core<0.12.0,>=0.11.0->llama-index-llms-azure-openai) (4.66.6)\n",
      "Requirement already satisfied: dirtyjson<2.0.0,>=1.0.8 in /Users/kevinsuin/Library/Python/3.9/lib/python/site-packages (from llama-index-core<0.12.0,>=0.11.0->llama-index-llms-azure-openai) (1.0.8)\n",
      "Requirement already satisfied: nltk>3.8.1 in /Users/kevinsuin/Library/Python/3.9/lib/python/site-packages (from llama-index-core<0.12.0,>=0.11.0->llama-index-llms-azure-openai) (3.9.1)\n",
      "Requirement already satisfied: deprecated>=1.2.9.3 in /Users/kevinsuin/Library/Python/3.9/lib/python/site-packages (from llama-index-core<0.12.0,>=0.11.0->llama-index-llms-azure-openai) (1.2.14)\n",
      "Requirement already satisfied: typing-inspect>=0.8.0 in /Users/kevinsuin/Library/Python/3.9/lib/python/site-packages (from llama-index-core<0.12.0,>=0.11.0->llama-index-llms-azure-openai) (0.9.0)\n",
      "Requirement already satisfied: SQLAlchemy[asyncio]>=1.4.49 in /Users/kevinsuin/Library/Python/3.9/lib/python/site-packages (from llama-index-core<0.12.0,>=0.11.0->llama-index-llms-azure-openai) (2.0.36)\n",
      "Requirement already satisfied: wrapt in /Users/kevinsuin/Library/Python/3.9/lib/python/site-packages (from llama-index-core<0.12.0,>=0.11.0->llama-index-llms-azure-openai) (1.16.0)\n",
      "Requirement already satisfied: nest-asyncio<2.0.0,>=1.5.8 in /Users/kevinsuin/Library/Python/3.9/lib/python/site-packages (from llama-index-core<0.12.0,>=0.11.0->llama-index-llms-azure-openai) (1.5.8)\n",
      "Requirement already satisfied: aiohttp<4.0.0,>=3.8.6 in /Users/kevinsuin/Library/Python/3.9/lib/python/site-packages (from llama-index-core<0.12.0,>=0.11.0->llama-index-llms-azure-openai) (3.10.10)\n",
      "Requirement already satisfied: tenacity!=8.4.0,<9.0.0,>=8.2.0 in /Users/kevinsuin/Library/Python/3.9/lib/python/site-packages (from llama-index-core<0.12.0,>=0.11.0->llama-index-llms-azure-openai) (8.5.0)\n",
      "Requirement already satisfied: pydantic<3.0.0,>=2.7.0 in /Users/kevinsuin/Library/Python/3.9/lib/python/site-packages (from llama-index-core<0.12.0,>=0.11.0->llama-index-llms-azure-openai) (2.9.2)\n",
      "Requirement already satisfied: tiktoken>=0.3.3 in /Users/kevinsuin/Library/Python/3.9/lib/python/site-packages (from llama-index-core<0.12.0,>=0.11.0->llama-index-llms-azure-openai) (0.8.0)\n",
      "Requirement already satisfied: numpy<2.0.0 in /Users/kevinsuin/Library/Python/3.9/lib/python/site-packages (from llama-index-core<0.12.0,>=0.11.0->llama-index-llms-azure-openai) (1.26.4)\n",
      "Requirement already satisfied: attrs>=17.3.0 in /Users/kevinsuin/Library/Python/3.9/lib/python/site-packages (from aiohttp<4.0.0,>=3.8.6->llama-index-core<0.12.0,>=0.11.0->llama-index-llms-azure-openai) (24.2.0)\n",
      "Requirement already satisfied: yarl<2.0,>=1.12.0 in /Users/kevinsuin/Library/Python/3.9/lib/python/site-packages (from aiohttp<4.0.0,>=3.8.6->llama-index-core<0.12.0,>=0.11.0->llama-index-llms-azure-openai) (1.17.1)\n",
      "Requirement already satisfied: aiosignal>=1.1.2 in /Users/kevinsuin/Library/Python/3.9/lib/python/site-packages (from aiohttp<4.0.0,>=3.8.6->llama-index-core<0.12.0,>=0.11.0->llama-index-llms-azure-openai) (1.3.1)\n",
      "Requirement already satisfied: multidict<7.0,>=4.5 in /Users/kevinsuin/Library/Python/3.9/lib/python/site-packages (from aiohttp<4.0.0,>=3.8.6->llama-index-core<0.12.0,>=0.11.0->llama-index-llms-azure-openai) (6.1.0)\n",
      "Requirement already satisfied: frozenlist>=1.1.1 in /Users/kevinsuin/Library/Python/3.9/lib/python/site-packages (from aiohttp<4.0.0,>=3.8.6->llama-index-core<0.12.0,>=0.11.0->llama-index-llms-azure-openai) (1.5.0)\n",
      "Requirement already satisfied: async-timeout<5.0,>=4.0 in /Users/kevinsuin/Library/Python/3.9/lib/python/site-packages (from aiohttp<4.0.0,>=3.8.6->llama-index-core<0.12.0,>=0.11.0->llama-index-llms-azure-openai) (4.0.3)\n",
      "Requirement already satisfied: aiohappyeyeballs>=2.3.0 in /Users/kevinsuin/Library/Python/3.9/lib/python/site-packages (from aiohttp<4.0.0,>=3.8.6->llama-index-core<0.12.0,>=0.11.0->llama-index-llms-azure-openai) (2.4.3)\n",
      "Requirement already satisfied: openai<2.0.0,>=1.40.0 in /Users/kevinsuin/Library/Python/3.9/lib/python/site-packages (from llama-index-llms-openai<0.3.0,>=0.2.1->llama-index-llms-azure-openai) (1.53.0)\n",
      "Requirement already satisfied: PyJWT[crypto]<3,>=1.0.0 in /Users/kevinsuin/Library/Python/3.9/lib/python/site-packages (from msal>=1.30.0->azure-identity<2.0.0,>=1.15.0->llama-index-llms-azure-openai) (2.9.0)\n",
      "Requirement already satisfied: portalocker<3,>=1.4 in /Users/kevinsuin/Library/Python/3.9/lib/python/site-packages (from msal-extensions>=1.2.0->azure-identity<2.0.0,>=1.15.0->llama-index-llms-azure-openai) (2.10.1)\n",
      "Requirement already satisfied: joblib in /Users/kevinsuin/Library/Python/3.9/lib/python/site-packages (from nltk>3.8.1->llama-index-core<0.12.0,>=0.11.0->llama-index-llms-azure-openai) (1.4.2)\n",
      "Requirement already satisfied: regex>=2021.8.3 in /Users/kevinsuin/Library/Python/3.9/lib/python/site-packages (from nltk>3.8.1->llama-index-core<0.12.0,>=0.11.0->llama-index-llms-azure-openai) (2024.9.11)\n",
      "Requirement already satisfied: click in /Users/kevinsuin/Library/Python/3.9/lib/python/site-packages (from nltk>3.8.1->llama-index-core<0.12.0,>=0.11.0->llama-index-llms-azure-openai) (8.1.7)\n",
      "Requirement already satisfied: sniffio in /Users/kevinsuin/Library/Python/3.9/lib/python/site-packages (from openai<2.0.0,>=1.40.0->llama-index-llms-openai<0.3.0,>=0.2.1->llama-index-llms-azure-openai) (1.3.1)\n",
      "Requirement already satisfied: anyio<5,>=3.5.0 in /Users/kevinsuin/Library/Python/3.9/lib/python/site-packages (from openai<2.0.0,>=1.40.0->llama-index-llms-openai<0.3.0,>=0.2.1->llama-index-llms-azure-openai) (4.6.2.post1)\n",
      "Requirement already satisfied: distro<2,>=1.7.0 in /Users/kevinsuin/Library/Python/3.9/lib/python/site-packages (from openai<2.0.0,>=1.40.0->llama-index-llms-openai<0.3.0,>=0.2.1->llama-index-llms-azure-openai) (1.9.0)\n",
      "Requirement already satisfied: jiter<1,>=0.4.0 in /Users/kevinsuin/Library/Python/3.9/lib/python/site-packages (from openai<2.0.0,>=1.40.0->llama-index-llms-openai<0.3.0,>=0.2.1->llama-index-llms-azure-openai) (0.7.0)\n",
      "Requirement already satisfied: exceptiongroup>=1.0.2 in /Users/kevinsuin/Library/Python/3.9/lib/python/site-packages (from anyio<5,>=3.5.0->openai<2.0.0,>=1.40.0->llama-index-llms-openai<0.3.0,>=0.2.1->llama-index-llms-azure-openai) (1.2.0)\n",
      "Requirement already satisfied: idna>=2.8 in /Users/kevinsuin/Library/Python/3.9/lib/python/site-packages (from anyio<5,>=3.5.0->openai<2.0.0,>=1.40.0->llama-index-llms-openai<0.3.0,>=0.2.1->llama-index-llms-azure-openai) (3.10)\n",
      "Requirement already satisfied: certifi in /Users/kevinsuin/Library/Python/3.9/lib/python/site-packages (from httpx->llama-index-llms-azure-openai) (2024.8.30)\n",
      "Requirement already satisfied: httpcore==1.* in /Users/kevinsuin/Library/Python/3.9/lib/python/site-packages (from httpx->llama-index-llms-azure-openai) (1.0.6)\n",
      "Requirement already satisfied: h11<0.15,>=0.13 in /Users/kevinsuin/Library/Python/3.9/lib/python/site-packages (from httpcore==1.*->httpx->llama-index-llms-azure-openai) (0.14.0)\n",
      "Requirement already satisfied: pydantic-core==2.23.4 in /Users/kevinsuin/Library/Python/3.9/lib/python/site-packages (from pydantic<3.0.0,>=2.7.0->llama-index-core<0.12.0,>=0.11.0->llama-index-llms-azure-openai) (2.23.4)\n",
      "Requirement already satisfied: annotated-types>=0.6.0 in /Users/kevinsuin/Library/Python/3.9/lib/python/site-packages (from pydantic<3.0.0,>=2.7.0->llama-index-core<0.12.0,>=0.11.0->llama-index-llms-azure-openai) (0.7.0)\n",
      "Requirement already satisfied: charset-normalizer<4,>=2 in /Users/kevinsuin/Library/Python/3.9/lib/python/site-packages (from requests>=2.21.0->azure-core>=1.31.0->azure-identity<2.0.0,>=1.15.0->llama-index-llms-azure-openai) (3.4.0)\n",
      "Requirement already satisfied: urllib3<3,>=1.21.1 in /Users/kevinsuin/Library/Python/3.9/lib/python/site-packages (from requests>=2.21.0->azure-core>=1.31.0->azure-identity<2.0.0,>=1.15.0->llama-index-llms-azure-openai) (2.2.3)\n",
      "Requirement already satisfied: greenlet!=0.4.17 in /Users/kevinsuin/Library/Python/3.9/lib/python/site-packages (from SQLAlchemy[asyncio]>=1.4.49->llama-index-core<0.12.0,>=0.11.0->llama-index-llms-azure-openai) (3.1.1)\n",
      "Requirement already satisfied: mypy-extensions>=0.3.0 in /Users/kevinsuin/Library/Python/3.9/lib/python/site-packages (from typing-inspect>=0.8.0->llama-index-core<0.12.0,>=0.11.0->llama-index-llms-azure-openai) (1.0.0)\n",
      "Requirement already satisfied: propcache>=0.2.0 in /Users/kevinsuin/Library/Python/3.9/lib/python/site-packages (from yarl<2.0,>=1.12.0->aiohttp<4.0.0,>=3.8.6->llama-index-core<0.12.0,>=0.11.0->llama-index-llms-azure-openai) (0.2.0)\n",
      "Requirement already satisfied: marshmallow<4.0.0,>=3.18.0 in /Users/kevinsuin/Library/Python/3.9/lib/python/site-packages (from dataclasses-json->llama-index-core<0.12.0,>=0.11.0->llama-index-llms-azure-openai) (3.23.1)\n",
      "Requirement already satisfied: packaging>=17.0 in /Users/kevinsuin/Library/Python/3.9/lib/python/site-packages (from marshmallow<4.0.0,>=3.18.0->dataclasses-json->llama-index-core<0.12.0,>=0.11.0->llama-index-llms-azure-openai) (23.2)\n",
      "\u001b[33mWARNING: You are using pip version 21.2.4; however, version 24.3.1 is available.\n",
      "You should consider upgrading via the '/Library/Developer/CommandLineTools/usr/bin/python3 -m pip install --upgrade pip' command.\u001b[0m\n",
      "Note: you may need to restart the kernel to use updated packages.\n"
     ]
    }
   ],
   "source": [
    "%pip install llama-index-embeddings-azure-openai\n",
    "%pip install llama-index-llms-azure-openai\n"
   ]
  },
  {
   "cell_type": "code",
   "execution_count": 2,
   "id": "de32bc14",
   "metadata": {
    "id": "de32bc14",
    "scrolled": true
   },
   "outputs": [
    {
     "name": "stdout",
     "output_type": "stream",
     "text": [
      "Collecting llama-index\n",
      "  Obtaining dependency information for llama-index from https://files.pythonhosted.org/packages/d5/eb/ce185abaa2821078b0019bdf397b990df0cff6a7e4212d2c45ad9c953abb/llama_index-0.11.21-py3-none-any.whl.metadata\n",
      "  Downloading llama_index-0.11.21-py3-none-any.whl.metadata (11 kB)\n",
      "Collecting llama-index-agent-openai<0.4.0,>=0.3.4 (from llama-index)\n",
      "  Obtaining dependency information for llama-index-agent-openai<0.4.0,>=0.3.4 from https://files.pythonhosted.org/packages/9d/69/69857756c139897f209a2c372380509f718fb147170e2f2287cf4d77314a/llama_index_agent_openai-0.3.4-py3-none-any.whl.metadata\n",
      "  Downloading llama_index_agent_openai-0.3.4-py3-none-any.whl.metadata (728 bytes)\n",
      "Collecting llama-index-cli<0.4.0,>=0.3.1 (from llama-index)\n",
      "  Obtaining dependency information for llama-index-cli<0.4.0,>=0.3.1 from https://files.pythonhosted.org/packages/28/58/fb9d85d8f29d7379e953caf50278e095d302231a508d3e46dafd3a4bea1e/llama_index_cli-0.3.1-py3-none-any.whl.metadata\n",
      "  Downloading llama_index_cli-0.3.1-py3-none-any.whl.metadata (1.5 kB)\n",
      "Collecting llama-index-core<0.12.0,>=0.11.20 (from llama-index)\n",
      "  Obtaining dependency information for llama-index-core<0.12.0,>=0.11.20 from https://files.pythonhosted.org/packages/fa/b7/044992f0b25e0744db9804b6960b769e051a341518197683a82ce6d8af46/llama_index_core-0.11.21-py3-none-any.whl.metadata\n",
      "  Downloading llama_index_core-0.11.21-py3-none-any.whl.metadata (2.4 kB)\n",
      "Collecting llama-index-embeddings-openai<0.3.0,>=0.2.4 (from llama-index)\n",
      "  Obtaining dependency information for llama-index-embeddings-openai<0.3.0,>=0.2.4 from https://files.pythonhosted.org/packages/a4/4e/2cabf16c4ef7dda74c233d14d017ba57e933c4dea8a9807b90d145177e88/llama_index_embeddings_openai-0.2.5-py3-none-any.whl.metadata\n",
      "  Downloading llama_index_embeddings_openai-0.2.5-py3-none-any.whl.metadata (686 bytes)\n",
      "Collecting llama-index-indices-managed-llama-cloud>=0.3.0 (from llama-index)\n",
      "  Obtaining dependency information for llama-index-indices-managed-llama-cloud>=0.3.0 from https://files.pythonhosted.org/packages/a8/bf/3c1986159e047306ebdfb32555ef667fe8305ef6ab772f0624ada7537440/llama_index_indices_managed_llama_cloud-0.4.0-py3-none-any.whl.metadata\n",
      "  Downloading llama_index_indices_managed_llama_cloud-0.4.0-py3-none-any.whl.metadata (3.8 kB)\n",
      "Collecting llama-index-legacy<0.10.0,>=0.9.48 (from llama-index)\n",
      "  Obtaining dependency information for llama-index-legacy<0.10.0,>=0.9.48 from https://files.pythonhosted.org/packages/84/40/f8e42a3c569031f888c46bcdf12b79736d8728c77c4290ed348feaba79ea/llama_index_legacy-0.9.48.post3-py3-none-any.whl.metadata\n",
      "  Downloading llama_index_legacy-0.9.48.post3-py3-none-any.whl.metadata (8.5 kB)\n",
      "Collecting llama-index-llms-openai<0.3.0,>=0.2.10 (from llama-index)\n",
      "  Obtaining dependency information for llama-index-llms-openai<0.3.0,>=0.2.10 from https://files.pythonhosted.org/packages/3b/49/bae3a019eba473a0b9bf21ad911786f86941e86dd0dac3c3e909352eaf54/llama_index_llms_openai-0.2.16-py3-none-any.whl.metadata\n",
      "  Downloading llama_index_llms_openai-0.2.16-py3-none-any.whl.metadata (3.3 kB)\n",
      "Collecting llama-index-multi-modal-llms-openai<0.3.0,>=0.2.0 (from llama-index)\n",
      "  Obtaining dependency information for llama-index-multi-modal-llms-openai<0.3.0,>=0.2.0 from https://files.pythonhosted.org/packages/c6/e2/3e2b639880baf5fd5ca0f88abd68719d2ed7af4d5076698cb5aff612505c/llama_index_multi_modal_llms_openai-0.2.3-py3-none-any.whl.metadata\n",
      "  Downloading llama_index_multi_modal_llms_openai-0.2.3-py3-none-any.whl.metadata (729 bytes)\n",
      "Collecting llama-index-program-openai<0.3.0,>=0.2.0 (from llama-index)\n",
      "  Obtaining dependency information for llama-index-program-openai<0.3.0,>=0.2.0 from https://files.pythonhosted.org/packages/1e/67/45422d24aad29191f3a9eb621afa0feb491653f1cb012d51083824d36c7b/llama_index_program_openai-0.2.0-py3-none-any.whl.metadata\n",
      "  Downloading llama_index_program_openai-0.2.0-py3-none-any.whl.metadata (766 bytes)\n",
      "Collecting llama-index-question-gen-openai<0.3.0,>=0.2.0 (from llama-index)\n",
      "  Obtaining dependency information for llama-index-question-gen-openai<0.3.0,>=0.2.0 from https://files.pythonhosted.org/packages/35/97/64691f3b3a5be2bea75102b189818276c7b2ddf688050e387954b176623a/llama_index_question_gen_openai-0.2.0-py3-none-any.whl.metadata\n",
      "  Downloading llama_index_question_gen_openai-0.2.0-py3-none-any.whl.metadata (785 bytes)\n",
      "Collecting llama-index-readers-file<0.3.0,>=0.2.0 (from llama-index)\n",
      "  Obtaining dependency information for llama-index-readers-file<0.3.0,>=0.2.0 from https://files.pythonhosted.org/packages/ad/0c/9cb1a0cd5005a222502995f7fe804c3e03dfe1ef7c7e97da2237f4e26fef/llama_index_readers_file-0.2.2-py3-none-any.whl.metadata\n",
      "  Downloading llama_index_readers_file-0.2.2-py3-none-any.whl.metadata (5.4 kB)\n",
      "Collecting llama-index-readers-llama-parse>=0.3.0 (from llama-index)\n",
      "  Obtaining dependency information for llama-index-readers-llama-parse>=0.3.0 from https://files.pythonhosted.org/packages/49/b2/174bb131b767f9873b9f95b6c216043ccde4cfbeb3bcaf01fa23594f810a/llama_index_readers_llama_parse-0.3.0-py3-none-any.whl.metadata\n",
      "  Downloading llama_index_readers_llama_parse-0.3.0-py3-none-any.whl.metadata (3.5 kB)\n",
      "Collecting nltk>3.8.1 (from llama-index)\n",
      "  Obtaining dependency information for nltk>3.8.1 from https://files.pythonhosted.org/packages/4d/66/7d9e26593edda06e8cb531874633f7c2372279c3b0f46235539fe546df8b/nltk-3.9.1-py3-none-any.whl.metadata\n",
      "  Downloading nltk-3.9.1-py3-none-any.whl.metadata (2.9 kB)\n",
      "Requirement already satisfied: openai>=1.14.0 in /Users/kevinsuin/anaconda3/lib/python3.11/site-packages (from llama-index-agent-openai<0.4.0,>=0.3.4->llama-index) (1.43.0)\n",
      "Requirement already satisfied: PyYAML>=6.0.1 in /Users/kevinsuin/anaconda3/lib/python3.11/site-packages (from llama-index-core<0.12.0,>=0.11.20->llama-index) (6.0.2)\n",
      "Requirement already satisfied: SQLAlchemy[asyncio]>=1.4.49 in /Users/kevinsuin/anaconda3/lib/python3.11/site-packages (from llama-index-core<0.12.0,>=0.11.20->llama-index) (2.0.34)\n",
      "Requirement already satisfied: aiohttp<4.0.0,>=3.8.6 in /Users/kevinsuin/anaconda3/lib/python3.11/site-packages (from llama-index-core<0.12.0,>=0.11.20->llama-index) (3.10.5)\n",
      "Requirement already satisfied: dataclasses-json in /Users/kevinsuin/anaconda3/lib/python3.11/site-packages (from llama-index-core<0.12.0,>=0.11.20->llama-index) (0.6.7)\n",
      "Requirement already satisfied: deprecated>=1.2.9.3 in /Users/kevinsuin/anaconda3/lib/python3.11/site-packages (from llama-index-core<0.12.0,>=0.11.20->llama-index) (1.2.14)\n",
      "Collecting dirtyjson<2.0.0,>=1.0.8 (from llama-index-core<0.12.0,>=0.11.20->llama-index)\n",
      "  Obtaining dependency information for dirtyjson<2.0.0,>=1.0.8 from https://files.pythonhosted.org/packages/68/69/1bcf70f81de1b4a9f21b3a62ec0c83bdff991c88d6cc2267d02408457e88/dirtyjson-1.0.8-py3-none-any.whl.metadata\n",
      "  Downloading dirtyjson-1.0.8-py3-none-any.whl.metadata (11 kB)\n",
      "Requirement already satisfied: fsspec>=2023.5.0 in /Users/kevinsuin/anaconda3/lib/python3.11/site-packages (from llama-index-core<0.12.0,>=0.11.20->llama-index) (2024.9.0)\n",
      "Requirement already satisfied: httpx in /Users/kevinsuin/anaconda3/lib/python3.11/site-packages (from llama-index-core<0.12.0,>=0.11.20->llama-index) (0.26.0)\n",
      "Collecting nest-asyncio<2.0.0,>=1.5.8 (from llama-index-core<0.12.0,>=0.11.20->llama-index)\n",
      "  Obtaining dependency information for nest-asyncio<2.0.0,>=1.5.8 from https://files.pythonhosted.org/packages/a0/c4/c2971a3ba4c6103a3d10c4b0f24f461ddc027f0f09763220cf35ca1401b3/nest_asyncio-1.6.0-py3-none-any.whl.metadata\n",
      "  Downloading nest_asyncio-1.6.0-py3-none-any.whl.metadata (2.8 kB)\n",
      "Requirement already satisfied: networkx>=3.0 in /Users/kevinsuin/anaconda3/lib/python3.11/site-packages (from llama-index-core<0.12.0,>=0.11.20->llama-index) (3.1)\n",
      "Requirement already satisfied: numpy<2.0.0 in /Users/kevinsuin/anaconda3/lib/python3.11/site-packages (from llama-index-core<0.12.0,>=0.11.20->llama-index) (1.24.3)\n",
      "Requirement already satisfied: pillow>=9.0.0 in /Users/kevinsuin/anaconda3/lib/python3.11/site-packages (from llama-index-core<0.12.0,>=0.11.20->llama-index) (10.2.0)\n",
      "Requirement already satisfied: pydantic<3.0.0,>=2.7.0 in /Users/kevinsuin/anaconda3/lib/python3.11/site-packages (from llama-index-core<0.12.0,>=0.11.20->llama-index) (2.8.2)\n",
      "Requirement already satisfied: requests>=2.31.0 in /Users/kevinsuin/anaconda3/lib/python3.11/site-packages (from llama-index-core<0.12.0,>=0.11.20->llama-index) (2.31.0)\n",
      "Requirement already satisfied: tenacity!=8.4.0,<9.0.0,>=8.2.0 in /Users/kevinsuin/anaconda3/lib/python3.11/site-packages (from llama-index-core<0.12.0,>=0.11.20->llama-index) (8.5.0)\n",
      "Requirement already satisfied: tiktoken>=0.3.3 in /Users/kevinsuin/anaconda3/lib/python3.11/site-packages (from llama-index-core<0.12.0,>=0.11.20->llama-index) (0.7.0)\n",
      "Collecting tqdm<5.0.0,>=4.66.1 (from llama-index-core<0.12.0,>=0.11.20->llama-index)\n",
      "  Obtaining dependency information for tqdm<5.0.0,>=4.66.1 from https://files.pythonhosted.org/packages/41/73/02342de9c2d20922115f787e101527b831c0cffd2105c946c4a4826bcfd4/tqdm-4.66.6-py3-none-any.whl.metadata\n",
      "  Downloading tqdm-4.66.6-py3-none-any.whl.metadata (57 kB)\n",
      "\u001b[2K     \u001b[90m━━━━━━━━━━━━━━━━━━━━━━━━━━━━━━━━━━━━━━━━\u001b[0m \u001b[32m57.6/57.6 kB\u001b[0m \u001b[31m1.2 MB/s\u001b[0m eta \u001b[36m0:00:00\u001b[0ma \u001b[36m0:00:01\u001b[0m\n",
      "\u001b[?25hRequirement already satisfied: typing-extensions>=4.5.0 in /Users/kevinsuin/anaconda3/lib/python3.11/site-packages (from llama-index-core<0.12.0,>=0.11.20->llama-index) (4.12.2)\n",
      "Requirement already satisfied: typing-inspect>=0.8.0 in /Users/kevinsuin/anaconda3/lib/python3.11/site-packages (from llama-index-core<0.12.0,>=0.11.20->llama-index) (0.9.0)\n",
      "Requirement already satisfied: wrapt in /Users/kevinsuin/anaconda3/lib/python3.11/site-packages (from llama-index-core<0.12.0,>=0.11.20->llama-index) (1.14.1)\n",
      "Collecting llama-cloud>=0.0.11 (from llama-index-indices-managed-llama-cloud>=0.3.0->llama-index)\n",
      "  Obtaining dependency information for llama-cloud>=0.0.11 from https://files.pythonhosted.org/packages/e2/c8/550908552364cf77c835f1027c619fc37a12256c896348cce5a71dabcf5e/llama_cloud-0.1.4-py3-none-any.whl.metadata\n",
      "  Downloading llama_cloud-0.1.4-py3-none-any.whl.metadata (814 bytes)\n",
      "Requirement already satisfied: pandas in /Users/kevinsuin/anaconda3/lib/python3.11/site-packages (from llama-index-legacy<0.10.0,>=0.9.48->llama-index) (2.0.3)\n",
      "Requirement already satisfied: beautifulsoup4<5.0.0,>=4.12.3 in /Users/kevinsuin/anaconda3/lib/python3.11/site-packages (from llama-index-readers-file<0.3.0,>=0.2.0->llama-index) (4.12.3)\n",
      "Requirement already satisfied: pypdf<5.0.0,>=4.0.1 in /Users/kevinsuin/anaconda3/lib/python3.11/site-packages (from llama-index-readers-file<0.3.0,>=0.2.0->llama-index) (4.3.1)\n",
      "Collecting striprtf<0.0.27,>=0.0.26 (from llama-index-readers-file<0.3.0,>=0.2.0->llama-index)\n",
      "  Obtaining dependency information for striprtf<0.0.27,>=0.0.26 from https://files.pythonhosted.org/packages/a3/cf/0fea4f4ba3fc2772ac2419278aa9f6964124d4302117d61bc055758e000c/striprtf-0.0.26-py3-none-any.whl.metadata\n",
      "  Downloading striprtf-0.0.26-py3-none-any.whl.metadata (2.1 kB)\n",
      "Collecting llama-parse>=0.5.0 (from llama-index-readers-llama-parse>=0.3.0->llama-index)\n",
      "  Obtaining dependency information for llama-parse>=0.5.0 from https://files.pythonhosted.org/packages/78/5b/50751574773aa5dd6b4b05e8296e31d9f151ffc31e8044f1ecfbd2a61846/llama_parse-0.5.13-py3-none-any.whl.metadata\n",
      "  Downloading llama_parse-0.5.13-py3-none-any.whl.metadata (6.9 kB)\n",
      "Requirement already satisfied: click in /Users/kevinsuin/anaconda3/lib/python3.11/site-packages (from nltk>3.8.1->llama-index) (8.1.7)\n",
      "Requirement already satisfied: joblib in /Users/kevinsuin/anaconda3/lib/python3.11/site-packages (from nltk>3.8.1->llama-index) (1.1.1)\n",
      "Requirement already satisfied: regex>=2021.8.3 in /Users/kevinsuin/anaconda3/lib/python3.11/site-packages (from nltk>3.8.1->llama-index) (2023.12.25)\n",
      "Requirement already satisfied: aiohappyeyeballs>=2.3.0 in /Users/kevinsuin/anaconda3/lib/python3.11/site-packages (from aiohttp<4.0.0,>=3.8.6->llama-index-core<0.12.0,>=0.11.20->llama-index) (2.4.0)\n",
      "Requirement already satisfied: aiosignal>=1.1.2 in /Users/kevinsuin/anaconda3/lib/python3.11/site-packages (from aiohttp<4.0.0,>=3.8.6->llama-index-core<0.12.0,>=0.11.20->llama-index) (1.2.0)\n",
      "Requirement already satisfied: attrs>=17.3.0 in /Users/kevinsuin/anaconda3/lib/python3.11/site-packages (from aiohttp<4.0.0,>=3.8.6->llama-index-core<0.12.0,>=0.11.20->llama-index) (24.2.0)\n",
      "Requirement already satisfied: frozenlist>=1.1.1 in /Users/kevinsuin/anaconda3/lib/python3.11/site-packages (from aiohttp<4.0.0,>=3.8.6->llama-index-core<0.12.0,>=0.11.20->llama-index) (1.3.3)\n",
      "Requirement already satisfied: multidict<7.0,>=4.5 in /Users/kevinsuin/anaconda3/lib/python3.11/site-packages (from aiohttp<4.0.0,>=3.8.6->llama-index-core<0.12.0,>=0.11.20->llama-index) (6.0.2)\n",
      "Requirement already satisfied: yarl<2.0,>=1.0 in /Users/kevinsuin/anaconda3/lib/python3.11/site-packages (from aiohttp<4.0.0,>=3.8.6->llama-index-core<0.12.0,>=0.11.20->llama-index) (1.8.1)\n",
      "Requirement already satisfied: soupsieve>1.2 in /Users/kevinsuin/anaconda3/lib/python3.11/site-packages (from beautifulsoup4<5.0.0,>=4.12.3->llama-index-readers-file<0.3.0,>=0.2.0->llama-index) (2.4)\n",
      "Requirement already satisfied: anyio in /Users/kevinsuin/anaconda3/lib/python3.11/site-packages (from httpx->llama-index-core<0.12.0,>=0.11.20->llama-index) (3.5.0)\n",
      "Requirement already satisfied: certifi in /Users/kevinsuin/anaconda3/lib/python3.11/site-packages (from httpx->llama-index-core<0.12.0,>=0.11.20->llama-index) (2024.6.2)\n",
      "Requirement already satisfied: httpcore==1.* in /Users/kevinsuin/anaconda3/lib/python3.11/site-packages (from httpx->llama-index-core<0.12.0,>=0.11.20->llama-index) (1.0.2)\n",
      "Requirement already satisfied: idna in /Users/kevinsuin/anaconda3/lib/python3.11/site-packages (from httpx->llama-index-core<0.12.0,>=0.11.20->llama-index) (3.4)\n",
      "Requirement already satisfied: sniffio in /Users/kevinsuin/anaconda3/lib/python3.11/site-packages (from httpx->llama-index-core<0.12.0,>=0.11.20->llama-index) (1.3.1)\n",
      "Requirement already satisfied: h11<0.15,>=0.13 in /Users/kevinsuin/anaconda3/lib/python3.11/site-packages (from httpcore==1.*->httpx->llama-index-core<0.12.0,>=0.11.20->llama-index) (0.14.0)\n",
      "Requirement already satisfied: distro<2,>=1.7.0 in /Users/kevinsuin/anaconda3/lib/python3.11/site-packages (from openai>=1.14.0->llama-index-agent-openai<0.4.0,>=0.3.4->llama-index) (1.9.0)\n",
      "Requirement already satisfied: jiter<1,>=0.4.0 in /Users/kevinsuin/anaconda3/lib/python3.11/site-packages (from openai>=1.14.0->llama-index-agent-openai<0.4.0,>=0.3.4->llama-index) (0.4.2)\n",
      "Requirement already satisfied: annotated-types>=0.4.0 in /Users/kevinsuin/anaconda3/lib/python3.11/site-packages (from pydantic<3.0.0,>=2.7.0->llama-index-core<0.12.0,>=0.11.20->llama-index) (0.7.0)\n",
      "Requirement already satisfied: pydantic-core==2.20.1 in /Users/kevinsuin/anaconda3/lib/python3.11/site-packages (from pydantic<3.0.0,>=2.7.0->llama-index-core<0.12.0,>=0.11.20->llama-index) (2.20.1)\n",
      "Requirement already satisfied: charset-normalizer<4,>=2 in /Users/kevinsuin/anaconda3/lib/python3.11/site-packages (from requests>=2.31.0->llama-index-core<0.12.0,>=0.11.20->llama-index) (2.0.4)\n",
      "Requirement already satisfied: urllib3<3,>=1.21.1 in /Users/kevinsuin/anaconda3/lib/python3.11/site-packages (from requests>=2.31.0->llama-index-core<0.12.0,>=0.11.20->llama-index) (2.2.2)\n",
      "Requirement already satisfied: greenlet!=0.4.17 in /Users/kevinsuin/anaconda3/lib/python3.11/site-packages (from SQLAlchemy[asyncio]>=1.4.49->llama-index-core<0.12.0,>=0.11.20->llama-index) (2.0.1)\n",
      "Requirement already satisfied: mypy-extensions>=0.3.0 in /Users/kevinsuin/anaconda3/lib/python3.11/site-packages (from typing-inspect>=0.8.0->llama-index-core<0.12.0,>=0.11.20->llama-index) (1.0.0)\n",
      "Requirement already satisfied: marshmallow<4.0.0,>=3.18.0 in /Users/kevinsuin/anaconda3/lib/python3.11/site-packages (from dataclasses-json->llama-index-core<0.12.0,>=0.11.20->llama-index) (3.22.0)\n",
      "Requirement already satisfied: python-dateutil>=2.8.2 in /Users/kevinsuin/anaconda3/lib/python3.11/site-packages (from pandas->llama-index-legacy<0.10.0,>=0.9.48->llama-index) (2.8.2)\n",
      "Requirement already satisfied: pytz>=2020.1 in /Users/kevinsuin/anaconda3/lib/python3.11/site-packages (from pandas->llama-index-legacy<0.10.0,>=0.9.48->llama-index) (2024.1)\n",
      "Requirement already satisfied: tzdata>=2022.1 in /Users/kevinsuin/anaconda3/lib/python3.11/site-packages (from pandas->llama-index-legacy<0.10.0,>=0.9.48->llama-index) (2023.3)\n",
      "Requirement already satisfied: packaging>=17.0 in /Users/kevinsuin/anaconda3/lib/python3.11/site-packages (from marshmallow<4.0.0,>=3.18.0->dataclasses-json->llama-index-core<0.12.0,>=0.11.20->llama-index) (23.2)\n",
      "Requirement already satisfied: six>=1.5 in /Users/kevinsuin/anaconda3/lib/python3.11/site-packages (from python-dateutil>=2.8.2->pandas->llama-index-legacy<0.10.0,>=0.9.48->llama-index) (1.16.0)\n",
      "Downloading llama_index-0.11.21-py3-none-any.whl (6.8 kB)\n",
      "Downloading llama_index_agent_openai-0.3.4-py3-none-any.whl (13 kB)\n",
      "Downloading llama_index_cli-0.3.1-py3-none-any.whl (27 kB)\n",
      "Using cached llama_index_core-0.11.21-py3-none-any.whl (1.6 MB)\n",
      "Using cached llama_index_embeddings_openai-0.2.5-py3-none-any.whl (6.1 kB)\n",
      "Downloading llama_index_indices_managed_llama_cloud-0.4.0-py3-none-any.whl (10 kB)\n",
      "Downloading llama_index_legacy-0.9.48.post3-py3-none-any.whl (1.2 MB)\n",
      "\u001b[2K   \u001b[90m━━━━━━━━━━━━━━━━━━━━━━━━━━━━━━━━━━━━━━━━\u001b[0m \u001b[32m1.2/1.2 MB\u001b[0m \u001b[31m7.3 MB/s\u001b[0m eta \u001b[36m0:00:00\u001b[0ma \u001b[36m0:00:01\u001b[0m\n",
      "\u001b[?25hUsing cached llama_index_llms_openai-0.2.16-py3-none-any.whl (13 kB)\n",
      "Downloading llama_index_multi_modal_llms_openai-0.2.3-py3-none-any.whl (5.9 kB)\n",
      "Downloading llama_index_program_openai-0.2.0-py3-none-any.whl (5.3 kB)\n",
      "Downloading llama_index_question_gen_openai-0.2.0-py3-none-any.whl (2.9 kB)\n",
      "Downloading llama_index_readers_file-0.2.2-py3-none-any.whl (38 kB)\n",
      "Downloading llama_index_readers_llama_parse-0.3.0-py3-none-any.whl (2.5 kB)\n",
      "Using cached nltk-3.9.1-py3-none-any.whl (1.5 MB)\n",
      "Using cached dirtyjson-1.0.8-py3-none-any.whl (25 kB)\n",
      "Downloading llama_cloud-0.1.4-py3-none-any.whl (176 kB)\n",
      "\u001b[2K   \u001b[90m━━━━━━━━━━━━━━━━━━━━━━━━━━━━━━━━━━━━━━━━\u001b[0m \u001b[32m176.8/176.8 kB\u001b[0m \u001b[31m11.6 MB/s\u001b[0m eta \u001b[36m0:00:00\u001b[0m\n",
      "\u001b[?25hDownloading llama_parse-0.5.13-py3-none-any.whl (13 kB)\n",
      "Downloading nest_asyncio-1.6.0-py3-none-any.whl (5.2 kB)\n",
      "Downloading striprtf-0.0.26-py3-none-any.whl (6.9 kB)\n",
      "Using cached tqdm-4.66.6-py3-none-any.whl (78 kB)\n",
      "Installing collected packages: striprtf, dirtyjson, tqdm, nest-asyncio, nltk, llama-index-core, llama-cloud, llama-parse, llama-index-readers-file, llama-index-llms-openai, llama-index-legacy, llama-index-indices-managed-llama-cloud, llama-index-embeddings-openai, llama-index-readers-llama-parse, llama-index-multi-modal-llms-openai, llama-index-cli, llama-index-agent-openai, llama-index-program-openai, llama-index-question-gen-openai, llama-index\n",
      "  Attempting uninstall: tqdm\n",
      "    Found existing installation: tqdm 4.65.0\n",
      "    Uninstalling tqdm-4.65.0:\n",
      "      Successfully uninstalled tqdm-4.65.0\n",
      "  Attempting uninstall: nest-asyncio\n",
      "    Found existing installation: nest-asyncio 1.5.6\n",
      "    Uninstalling nest-asyncio-1.5.6:\n",
      "      Successfully uninstalled nest-asyncio-1.5.6\n",
      "  Attempting uninstall: nltk\n",
      "    Found existing installation: nltk 3.8.1\n",
      "    Uninstalling nltk-3.8.1:\n",
      "      Successfully uninstalled nltk-3.8.1\n",
      "\u001b[31mERROR: pip's dependency resolver does not currently take into account all the packages that are installed. This behaviour is the source of the following dependency conflicts.\n",
      "transformers 4.32.1 requires tokenizers!=0.11.3,<0.14,>=0.11.1, but you have tokenizers 0.20.0 which is incompatible.\u001b[0m\u001b[31m\n",
      "\u001b[0mSuccessfully installed dirtyjson-1.0.8 llama-cloud-0.1.4 llama-index-0.11.21 llama-index-agent-openai-0.3.4 llama-index-cli-0.3.1 llama-index-core-0.11.21 llama-index-embeddings-openai-0.2.5 llama-index-indices-managed-llama-cloud-0.4.0 llama-index-legacy-0.9.48.post3 llama-index-llms-openai-0.2.16 llama-index-multi-modal-llms-openai-0.2.3 llama-index-program-openai-0.2.0 llama-index-question-gen-openai-0.2.0 llama-index-readers-file-0.2.2 llama-index-readers-llama-parse-0.3.0 llama-parse-0.5.13 nest-asyncio-1.6.0 nltk-3.9.1 striprtf-0.0.26 tqdm-4.66.6\n"
     ]
    }
   ],
   "source": [
    "!pip install llama-index\n"
   ]
  },
  {
   "cell_type": "code",
   "execution_count": 9,
   "id": "b05e71d5",
   "metadata": {
    "id": "b05e71d5"
   },
   "outputs": [],
   "source": [
    "from llama_index.llms.azure_openai import AzureOpenAI\n",
    "from llama_index.embeddings.azure_openai import AzureOpenAIEmbedding\n",
    "from llama_index.core import VectorStoreIndex, SimpleDirectoryReader\n",
    "import logging\n",
    "import sys\n",
    "\n",
    "logging.basicConfig(\n",
    "    stream=sys.stdout, level=logging.INFO\n",
    ")  # logging.DEBUG for more verbose output\n",
    "logging.getLogger().addHandler(logging.StreamHandler(stream=sys.stdout))"
   ]
  },
  {
   "cell_type": "markdown",
   "id": "fcaaafdf",
   "metadata": {
    "id": "fcaaafdf"
   },
   "source": [
    "Configuramos el modelo de incrustación (para la recuperación) y llm (para la generación de texto). Tenga en cuenta que no solo necesita los nombres de los modelos (por ejemplo, \"text-embedding-ada-002\"), sino también los nombres de implementación del modelo (el que eligió al implementar el modelo en Azure). Debe pasar el nombre de la implementación como parámetro cuando inicialice `AzureOpenAI` y `OpenAIEmbedding`."
   ]
  },
  {
   "cell_type": "code",
   "execution_count": null,
   "id": "6831c2e8-39f9-4952-b4da-888fef44a4a3",
   "metadata": {
    "id": "6831c2e8-39f9-4952-b4da-888fef44a4a3"
   },
   "outputs": [],
   "source": [
    "api_key = \"XXXX\"\n",
    "azure_endpoint = \"https://<--->.openai.azure.com/\"\n",
    "api_version = \"2023-07-01-preview\"\n",
    "\n",
    "llm = AzureOpenAI(\n",
    "    model=\"gpt-4o\", #usar nombre del modelo\n",
    "    deployment_name=\"gpt-4o\", #usar nombre del deployment\n",
    "    api_key=api_key,\n",
    "    azure_endpoint=azure_endpoint,\n",
    "    api_version=api_version,\n",
    ")"
   ]
  },
  {
   "cell_type": "code",
   "execution_count": 11,
   "id": "e2569cb0",
   "metadata": {
    "id": "e2569cb0"
   },
   "outputs": [],
   "source": [
    "# You need to deploy your own embedding model as well as your own chat completion model\n",
    "embed_model = AzureOpenAIEmbedding(\n",
    "    model=\"text-embedding-ada-002\", #usar nombre del modelo\n",
    "    deployment_name=\"text-embedding-ada-002\", #usar nombre del deployment\n",
    "    api_key=api_key,\n",
    "    azure_endpoint=azure_endpoint,\n",
    "    api_version=api_version,\n",
    ")"
   ]
  },
  {
   "cell_type": "code",
   "execution_count": 5,
   "id": "72aac5a6-495e-40d2-82d3-bda8688ae919",
   "metadata": {
    "id": "72aac5a6-495e-40d2-82d3-bda8688ae919"
   },
   "outputs": [],
   "source": [
    "from llama_index.core import Settings\n",
    "\n",
    "Settings.llm = llm\n",
    "Settings.embed_model = embed_model"
   ]
  },
  {
   "cell_type": "code",
   "execution_count": 8,
   "id": "39ec1763-7f19-451b-8d4c-b39773f8bc50",
   "metadata": {
    "id": "39ec1763-7f19-451b-8d4c-b39773f8bc50",
    "outputId": "315421f9-0988-42a7-9274-28a4ab29e0e2"
   },
   "outputs": [
    {
     "ename": "ImportError",
     "evalue": "`llama-index-readers-file` package not found",
     "output_type": "error",
     "traceback": [
      "\u001b[0;31m---------------------------------------------------------------------------\u001b[0m",
      "\u001b[0;31mModuleNotFoundError\u001b[0m                       Traceback (most recent call last)",
      "File \u001b[0;32m~/Library/Python/3.9/lib/python/site-packages/llama_index/core/readers/file/base.py:52\u001b[0m, in \u001b[0;36m_try_loading_included_file_formats\u001b[0;34m()\u001b[0m\n\u001b[1;32m     51\u001b[0m \u001b[38;5;28;01mtry\u001b[39;00m:\n\u001b[0;32m---> 52\u001b[0m     \u001b[38;5;28;01mfrom\u001b[39;00m \u001b[38;5;21;01mllama_index\u001b[39;00m\u001b[38;5;21;01m.\u001b[39;00m\u001b[38;5;21;01mreaders\u001b[39;00m\u001b[38;5;21;01m.\u001b[39;00m\u001b[38;5;21;01mfile\u001b[39;00m \u001b[38;5;28;01mimport\u001b[39;00m (\n\u001b[1;32m     53\u001b[0m         DocxReader,\n\u001b[1;32m     54\u001b[0m         EpubReader,\n\u001b[1;32m     55\u001b[0m         HWPReader,\n\u001b[1;32m     56\u001b[0m         ImageReader,\n\u001b[1;32m     57\u001b[0m         IPYNBReader,\n\u001b[1;32m     58\u001b[0m         MarkdownReader,\n\u001b[1;32m     59\u001b[0m         MboxReader,\n\u001b[1;32m     60\u001b[0m         PandasCSVReader,\n\u001b[1;32m     61\u001b[0m         PandasExcelReader,\n\u001b[1;32m     62\u001b[0m         PDFReader,\n\u001b[1;32m     63\u001b[0m         PptxReader,\n\u001b[1;32m     64\u001b[0m         VideoAudioReader,\n\u001b[1;32m     65\u001b[0m     )  \u001b[38;5;66;03m# pants: no-infer-dep\u001b[39;00m\n\u001b[1;32m     66\u001b[0m \u001b[38;5;28;01mexcept\u001b[39;00m \u001b[38;5;167;01mImportError\u001b[39;00m:\n",
      "\u001b[0;31mModuleNotFoundError\u001b[0m: No module named 'llama_index.readers'",
      "\nDuring handling of the above exception, another exception occurred:\n",
      "\u001b[0;31mImportError\u001b[0m                               Traceback (most recent call last)",
      "Cell \u001b[0;32mIn[8], line 1\u001b[0m\n\u001b[0;32m----> 1\u001b[0m documents \u001b[38;5;241m=\u001b[39m \u001b[43mSimpleDirectoryReader\u001b[49m\u001b[43m(\u001b[49m\n\u001b[1;32m      2\u001b[0m \u001b[43m    \u001b[49m\u001b[43minput_files\u001b[49m\u001b[38;5;241;43m=\u001b[39;49m\u001b[43m[\u001b[49m\u001b[38;5;124;43m\"\u001b[39;49m\u001b[38;5;124;43mprueba_txt_file.txt\u001b[39;49m\u001b[38;5;124;43m\"\u001b[39;49m\u001b[43m]\u001b[49m\n\u001b[1;32m      3\u001b[0m \u001b[43m)\u001b[49m\u001b[38;5;241;43m.\u001b[39;49m\u001b[43mload_data\u001b[49m\u001b[43m(\u001b[49m\u001b[43m)\u001b[49m\n",
      "File \u001b[0;32m~/Library/Python/3.9/lib/python/site-packages/llama_index/core/readers/file/base.py:697\u001b[0m, in \u001b[0;36mSimpleDirectoryReader.load_data\u001b[0;34m(self, show_progress, num_workers, fs)\u001b[0m\n\u001b[1;32m    692\u001b[0m         files_to_process \u001b[38;5;241m=\u001b[39m tqdm(\n\u001b[1;32m    693\u001b[0m             \u001b[38;5;28mself\u001b[39m\u001b[38;5;241m.\u001b[39minput_files, desc\u001b[38;5;241m=\u001b[39m\u001b[38;5;124m\"\u001b[39m\u001b[38;5;124mLoading files\u001b[39m\u001b[38;5;124m\"\u001b[39m, unit\u001b[38;5;241m=\u001b[39m\u001b[38;5;124m\"\u001b[39m\u001b[38;5;124mfile\u001b[39m\u001b[38;5;124m\"\u001b[39m\n\u001b[1;32m    694\u001b[0m         )\n\u001b[1;32m    695\u001b[0m     \u001b[38;5;28;01mfor\u001b[39;00m input_file \u001b[38;5;129;01min\u001b[39;00m files_to_process:\n\u001b[1;32m    696\u001b[0m         documents\u001b[38;5;241m.\u001b[39mextend(\n\u001b[0;32m--> 697\u001b[0m             \u001b[43mSimpleDirectoryReader\u001b[49m\u001b[38;5;241;43m.\u001b[39;49m\u001b[43mload_file\u001b[49m\u001b[43m(\u001b[49m\n\u001b[1;32m    698\u001b[0m \u001b[43m                \u001b[49m\u001b[43minput_file\u001b[49m\u001b[38;5;241;43m=\u001b[39;49m\u001b[43minput_file\u001b[49m\u001b[43m,\u001b[49m\n\u001b[1;32m    699\u001b[0m \u001b[43m                \u001b[49m\u001b[43mfile_metadata\u001b[49m\u001b[38;5;241;43m=\u001b[39;49m\u001b[38;5;28;43mself\u001b[39;49m\u001b[38;5;241;43m.\u001b[39;49m\u001b[43mfile_metadata\u001b[49m\u001b[43m,\u001b[49m\n\u001b[1;32m    700\u001b[0m \u001b[43m                \u001b[49m\u001b[43mfile_extractor\u001b[49m\u001b[38;5;241;43m=\u001b[39;49m\u001b[38;5;28;43mself\u001b[39;49m\u001b[38;5;241;43m.\u001b[39;49m\u001b[43mfile_extractor\u001b[49m\u001b[43m,\u001b[49m\n\u001b[1;32m    701\u001b[0m \u001b[43m                \u001b[49m\u001b[43mfilename_as_id\u001b[49m\u001b[38;5;241;43m=\u001b[39;49m\u001b[38;5;28;43mself\u001b[39;49m\u001b[38;5;241;43m.\u001b[39;49m\u001b[43mfilename_as_id\u001b[49m\u001b[43m,\u001b[49m\n\u001b[1;32m    702\u001b[0m \u001b[43m                \u001b[49m\u001b[43mencoding\u001b[49m\u001b[38;5;241;43m=\u001b[39;49m\u001b[38;5;28;43mself\u001b[39;49m\u001b[38;5;241;43m.\u001b[39;49m\u001b[43mencoding\u001b[49m\u001b[43m,\u001b[49m\n\u001b[1;32m    703\u001b[0m \u001b[43m                \u001b[49m\u001b[43merrors\u001b[49m\u001b[38;5;241;43m=\u001b[39;49m\u001b[38;5;28;43mself\u001b[39;49m\u001b[38;5;241;43m.\u001b[39;49m\u001b[43merrors\u001b[49m\u001b[43m,\u001b[49m\n\u001b[1;32m    704\u001b[0m \u001b[43m                \u001b[49m\u001b[43mraise_on_error\u001b[49m\u001b[38;5;241;43m=\u001b[39;49m\u001b[38;5;28;43mself\u001b[39;49m\u001b[38;5;241;43m.\u001b[39;49m\u001b[43mraise_on_error\u001b[49m\u001b[43m,\u001b[49m\n\u001b[1;32m    705\u001b[0m \u001b[43m                \u001b[49m\u001b[43mfs\u001b[49m\u001b[38;5;241;43m=\u001b[39;49m\u001b[43mfs\u001b[49m\u001b[43m,\u001b[49m\n\u001b[1;32m    706\u001b[0m \u001b[43m            \u001b[49m\u001b[43m)\u001b[49m\n\u001b[1;32m    707\u001b[0m         )\n\u001b[1;32m    709\u001b[0m \u001b[38;5;28;01mreturn\u001b[39;00m \u001b[38;5;28mself\u001b[39m\u001b[38;5;241m.\u001b[39m_exclude_metadata(documents)\n",
      "File \u001b[0;32m~/Library/Python/3.9/lib/python/site-packages/llama_index/core/readers/file/base.py:518\u001b[0m, in \u001b[0;36mSimpleDirectoryReader.load_file\u001b[0;34m(input_file, file_metadata, file_extractor, filename_as_id, encoding, errors, raise_on_error, fs)\u001b[0m\n\u001b[1;32m    485\u001b[0m \u001b[38;5;250m\u001b[39m\u001b[38;5;124;03m\"\"\"\u001b[39;00m\n\u001b[1;32m    486\u001b[0m \u001b[38;5;124;03mStatic method for loading file.\u001b[39;00m\n\u001b[1;32m    487\u001b[0m \n\u001b[0;32m   (...)\u001b[0m\n\u001b[1;32m    515\u001b[0m \u001b[38;5;124;03m    List[Document]: loaded documents\u001b[39;00m\n\u001b[1;32m    516\u001b[0m \u001b[38;5;124;03m\"\"\"\u001b[39;00m\n\u001b[1;32m    517\u001b[0m \u001b[38;5;66;03m# TODO: make this less redundant\u001b[39;00m\n\u001b[0;32m--> 518\u001b[0m default_file_reader_cls \u001b[38;5;241m=\u001b[39m \u001b[43mSimpleDirectoryReader\u001b[49m\u001b[38;5;241;43m.\u001b[39;49m\u001b[43msupported_suffix_fn\u001b[49m\u001b[43m(\u001b[49m\u001b[43m)\u001b[49m\n\u001b[1;32m    519\u001b[0m default_file_reader_suffix \u001b[38;5;241m=\u001b[39m \u001b[38;5;28mlist\u001b[39m(default_file_reader_cls\u001b[38;5;241m.\u001b[39mkeys())\n\u001b[1;32m    520\u001b[0m metadata: Optional[\u001b[38;5;28mdict\u001b[39m] \u001b[38;5;241m=\u001b[39m \u001b[38;5;28;01mNone\u001b[39;00m\n",
      "File \u001b[0;32m~/Library/Python/3.9/lib/python/site-packages/llama_index/core/readers/file/base.py:67\u001b[0m, in \u001b[0;36m_try_loading_included_file_formats\u001b[0;34m()\u001b[0m\n\u001b[1;32m     52\u001b[0m     \u001b[38;5;28;01mfrom\u001b[39;00m \u001b[38;5;21;01mllama_index\u001b[39;00m\u001b[38;5;21;01m.\u001b[39;00m\u001b[38;5;21;01mreaders\u001b[39;00m\u001b[38;5;21;01m.\u001b[39;00m\u001b[38;5;21;01mfile\u001b[39;00m \u001b[38;5;28;01mimport\u001b[39;00m (\n\u001b[1;32m     53\u001b[0m         DocxReader,\n\u001b[1;32m     54\u001b[0m         EpubReader,\n\u001b[0;32m   (...)\u001b[0m\n\u001b[1;32m     64\u001b[0m         VideoAudioReader,\n\u001b[1;32m     65\u001b[0m     )  \u001b[38;5;66;03m# pants: no-infer-dep\u001b[39;00m\n\u001b[1;32m     66\u001b[0m \u001b[38;5;28;01mexcept\u001b[39;00m \u001b[38;5;167;01mImportError\u001b[39;00m:\n\u001b[0;32m---> 67\u001b[0m     \u001b[38;5;28;01mraise\u001b[39;00m \u001b[38;5;167;01mImportError\u001b[39;00m(\u001b[38;5;124m\"\u001b[39m\u001b[38;5;124m`llama-index-readers-file` package not found\u001b[39m\u001b[38;5;124m\"\u001b[39m)\n\u001b[1;32m     69\u001b[0m default_file_reader_cls: Dict[\u001b[38;5;28mstr\u001b[39m, Type[BaseReader]] \u001b[38;5;241m=\u001b[39m {\n\u001b[1;32m     70\u001b[0m     \u001b[38;5;124m\"\u001b[39m\u001b[38;5;124m.hwp\u001b[39m\u001b[38;5;124m\"\u001b[39m: HWPReader,\n\u001b[1;32m     71\u001b[0m     \u001b[38;5;124m\"\u001b[39m\u001b[38;5;124m.pdf\u001b[39m\u001b[38;5;124m\"\u001b[39m: PDFReader,\n\u001b[0;32m   (...)\u001b[0m\n\u001b[1;32m     89\u001b[0m     \u001b[38;5;124m\"\u001b[39m\u001b[38;5;124m.xlsx\u001b[39m\u001b[38;5;124m\"\u001b[39m: PandasExcelReader,\n\u001b[1;32m     90\u001b[0m }\n\u001b[1;32m     91\u001b[0m \u001b[38;5;28;01mreturn\u001b[39;00m default_file_reader_cls\n",
      "\u001b[0;31mImportError\u001b[0m: `llama-index-readers-file` package not found"
     ]
    }
   ],
   "source": [
    "documents = SimpleDirectoryReader(\n",
    "    input_files=[\"prueba_txt_file.txt\"]\n",
    ").load_data()"
   ]
  },
  {
   "cell_type": "code",
   "execution_count": null,
   "id": "d79d2929-9194-40c9-913f-79103338415a",
   "metadata": {
    "id": "d79d2929-9194-40c9-913f-79103338415a",
    "outputId": "b56766a3-4f79-41f0-dbbf-1397aa959fee"
   },
   "outputs": [
    {
     "data": {
      "text/plain": [
       "[Document(id_='bee77497-d4ee-4ea4-a18d-51731f53cc43', embedding=None, metadata={'file_path': 'prueba_txt_file.txt', 'file_name': 'prueba_txt_file.txt', 'file_type': 'text/plain', 'file_size': 910, 'creation_date': '2024-10-18', 'last_modified_date': '2024-10-18'}, excluded_embed_metadata_keys=['file_name', 'file_type', 'file_size', 'creation_date', 'last_modified_date', 'last_accessed_date'], excluded_llm_metadata_keys=['file_name', 'file_type', 'file_size', 'creation_date', 'last_modified_date', 'last_accessed_date'], relationships={}, text='La ciudad de Chernóbil fue evacuada el 27 de abril de 1986, un día después del accidente nuclear sucedido en la central nuclear Vladímir Ilich Lenin (a 3 kilómetros de la ciudad de Prípiat, actual Ucrania), considerado como el más grave en la Escala Internacional de Accidentes Nucleares (el accidente mayor, nivel 7). Como consecuencia , las personas tuvieron que abandonar sus hogares, personas muertas y heridas, radioactividad liberada, áreas contaminadas, y la radioactividad provocó enfermedades como, cáncer y también hubo pérdidas económicas y miles de personas que se vieron obligadas a abandonar sus hogares fueron algunas de las consecuencias que dejó la catástrofe. Dicha central está situada a 14,5 kilómetros al noroccidente de la ciudad de Chernóbil. La central nuclear se encuentra en la región de Chernóbil, pero la ciudad y la central no estaban directamente relacionadas.', mimetype='text/plain', start_char_idx=None, end_char_idx=None, text_template='{metadata_str}\\n\\n{content}', metadata_template='{key}: {value}', metadata_seperator='\\n')]"
      ]
     },
     "execution_count": 8,
     "metadata": {},
     "output_type": "execute_result"
    }
   ],
   "source": [
    "documents"
   ]
  },
  {
   "cell_type": "code",
   "execution_count": null,
   "id": "1cf0e9c9",
   "metadata": {
    "id": "1cf0e9c9",
    "outputId": "079edb16-c225-44a8-8d1b-9af36a6afee1"
   },
   "outputs": [
    {
     "name": "stdout",
     "output_type": "stream",
     "text": [
      "INFO:httpx:HTTP Request: POST https://data-tribe-openai.openai.azure.com//openai/deployments/text-embedding-ada-002/embeddings?api-version=2023-07-01-preview \"HTTP/1.1 200 OK\"\n",
      "HTTP Request: POST https://data-tribe-openai.openai.azure.com//openai/deployments/text-embedding-ada-002/embeddings?api-version=2023-07-01-preview \"HTTP/1.1 200 OK\"\n"
     ]
    }
   ],
   "source": [
    "index = VectorStoreIndex.from_documents(documents)"
   ]
  },
  {
   "cell_type": "code",
   "execution_count": null,
   "id": "98d9d3fd",
   "metadata": {
    "id": "98d9d3fd",
    "outputId": "19b7518e-c593-4896-865e-6f1358e50bb0"
   },
   "outputs": [
    {
     "name": "stdout",
     "output_type": "stream",
     "text": [
      "INFO:httpx:HTTP Request: POST https://data-tribe-openai.openai.azure.com//openai/deployments/text-embedding-ada-002/embeddings?api-version=2023-07-01-preview \"HTTP/1.1 200 OK\"\n",
      "HTTP Request: POST https://data-tribe-openai.openai.azure.com//openai/deployments/text-embedding-ada-002/embeddings?api-version=2023-07-01-preview \"HTTP/1.1 200 OK\"\n",
      "INFO:httpx:HTTP Request: POST https://data-tribe-openai.openai.azure.com//openai/deployments/gpt-4o/chat/completions?api-version=2023-07-01-preview \"HTTP/1.1 200 OK\"\n",
      "HTTP Request: POST https://data-tribe-openai.openai.azure.com//openai/deployments/gpt-4o/chat/completions?api-version=2023-07-01-preview \"HTTP/1.1 200 OK\"\n",
      "> Source (Doc id: 62ad6999-1669-485d-9341-2750f37898e3): La ciudad de Chernóbil fue evacuada el 27 de abril de 1986, un día después del accidente nuclear ...\n",
      "La consulta fue: En español, qué ocurrió en Chernóbil? \n",
      "\n",
      "La respeusta fue: En Chernóbil ocurrió un accidente nuclear el 26 de abril de 1986 en la central nuclear Vladímir Ilich Lenin, lo que llevó a la evacuación de la ciudad el 27 de abril de 1986. Este accidente es considerado el más grave en la Escala Internacional de Accidentes Nucleares. Como consecuencia, hubo personas muertas y heridas, liberación de radioactividad, áreas contaminadas, enfermedades como el cáncer, pérdidas económicas y miles de personas se vieron obligadas a abandonar sus hogares. \n",
      "\n"
     ]
    }
   ],
   "source": [
    "query = \"En español, qué ocurrió en Chernóbil?\"\n",
    "query_engine = index.as_query_engine()\n",
    "answer = query_engine.query(query)\n",
    "\n",
    "print(answer.get_formatted_sources())\n",
    "print(f\"La consulta fue: {query} \\n\")\n",
    "print(f\"La respeusta fue: {answer} \\n\")"
   ]
  },
  {
   "cell_type": "code",
   "execution_count": null,
   "id": "8eefcc4e-2b52-4f59-81d1-5eeb33e5ba8c",
   "metadata": {
    "id": "8eefcc4e-2b52-4f59-81d1-5eeb33e5ba8c"
   },
   "outputs": [],
   "source": []
  }
 ],
 "metadata": {
  "colab": {
   "provenance": []
  },
  "kernelspec": {
   "display_name": "Python 3",
   "language": "python",
   "name": "python3"
  },
  "language_info": {
   "codemirror_mode": {
    "name": "ipython",
    "version": 3
   },
   "file_extension": ".py",
   "mimetype": "text/x-python",
   "name": "python",
   "nbconvert_exporter": "python",
   "pygments_lexer": "ipython3",
   "version": "3.9.6"
  }
 },
 "nbformat": 4,
 "nbformat_minor": 5
}
